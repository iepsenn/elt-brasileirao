{
 "cells": [
  {
   "cell_type": "code",
   "execution_count": 327,
   "metadata": {},
   "outputs": [],
   "source": [
    "import pandas as pd\n",
    "import numpy as np\n",
    "from sklearn.model_selection import GridSearchCV\n",
    "\n",
    "from sklearn.feature_selection import RFE\n",
    "from xgboost import XGBClassifier\n",
    "from sklearn.model_selection import train_test_split\n",
    "from sklearn.metrics import accuracy_score\n",
    "from sklearn.metrics import mean_absolute_error"
   ]
  },
  {
   "cell_type": "code",
   "execution_count": null,
   "metadata": {},
   "outputs": [],
   "source": []
  },
  {
   "cell_type": "code",
   "execution_count": null,
   "metadata": {},
   "outputs": [],
   "source": []
  },
  {
   "cell_type": "code",
   "execution_count": 328,
   "metadata": {},
   "outputs": [],
   "source": [
    "df = pd.read_csv('data/serieA_matches.csv')\n",
    "df_all_matches = pd.read_csv('data/2020_all_matches.csv')"
   ]
  },
  {
   "cell_type": "code",
   "execution_count": 329,
   "metadata": {},
   "outputs": [
    {
     "data": {
      "text/plain": [
       "(12710, 119)"
      ]
     },
     "execution_count": 329,
     "metadata": {},
     "output_type": "execute_result"
    }
   ],
   "source": [
    "df.shape"
   ]
  },
  {
   "cell_type": "code",
   "execution_count": 330,
   "metadata": {},
   "outputs": [
    {
     "name": "stdout",
     "output_type": "stream",
     "text": [
      "CPU times: user 2.92 ms, sys: 0 ns, total: 2.92 ms\n",
      "Wall time: 2.65 ms\n"
     ]
    }
   ],
   "source": [
    "%%time\n",
    "\n",
    "home_teams = df_all_matches[['Home', 'Venue']].drop_duplicates().values\n",
    "team_stadium = {}\n",
    "for data in home_teams:\n",
    "     team_stadium[data[0]] = data[1]"
   ]
  },
  {
   "cell_type": "code",
   "execution_count": null,
   "metadata": {},
   "outputs": [],
   "source": []
  },
  {
   "cell_type": "code",
   "execution_count": 331,
   "metadata": {},
   "outputs": [
    {
     "name": "stdout",
     "output_type": "stream",
     "text": [
      "CPU times: user 2.46 ms, sys: 0 ns, total: 2.46 ms\n",
      "Wall time: 1.73 ms\n"
     ]
    }
   ],
   "source": [
    "%%time\n",
    "\n",
    "\n",
    "team_dict = {}\n",
    "for idx, team in enumerate(df['team'].unique()):\n",
    "    team_dict[team] = idx"
   ]
  },
  {
   "cell_type": "code",
   "execution_count": 332,
   "metadata": {},
   "outputs": [
    {
     "name": "stdout",
     "output_type": "stream",
     "text": [
      "CPU times: user 3.32 ms, sys: 72 µs, total: 3.39 ms\n",
      "Wall time: 3.02 ms\n"
     ]
    }
   ],
   "source": [
    "%%time\n",
    "\n",
    "df['is_home'] = team_stadium[df['team'].iloc[0]]\n",
    "df['is_home'] = df['stadium'] == df['is_home']\n",
    "df['is_home'] = df['is_home'].astype(int)"
   ]
  },
  {
   "cell_type": "code",
   "execution_count": 333,
   "metadata": {},
   "outputs": [
    {
     "data": {
      "text/plain": [
       "team       object\n",
       "result     object\n",
       "stadium    object\n",
       "state      object\n",
       "UF         object\n",
       "date       object\n",
       "time       object\n",
       "dtype: object"
      ]
     },
     "execution_count": 333,
     "metadata": {},
     "output_type": "execute_result"
    }
   ],
   "source": [
    "cols_types = df.dtypes\n",
    "cols_types[cols_types == object]"
   ]
  },
  {
   "cell_type": "code",
   "execution_count": 334,
   "metadata": {},
   "outputs": [
    {
     "data": {
      "text/html": [
       "<div>\n",
       "<style scoped>\n",
       "    .dataframe tbody tr th:only-of-type {\n",
       "        vertical-align: middle;\n",
       "    }\n",
       "\n",
       "    .dataframe tbody tr th {\n",
       "        vertical-align: top;\n",
       "    }\n",
       "\n",
       "    .dataframe thead th {\n",
       "        text-align: right;\n",
       "    }\n",
       "</style>\n",
       "<table border=\"1\" class=\"dataframe\">\n",
       "  <thead>\n",
       "    <tr style=\"text-align: right;\">\n",
       "      <th></th>\n",
       "      <th>fouls</th>\n",
       "      <th>corners</th>\n",
       "      <th>crosses</th>\n",
       "      <th>touches</th>\n",
       "      <th>tackles</th>\n",
       "      <th>interceptions</th>\n",
       "      <th>aerials_won</th>\n",
       "      <th>clearances</th>\n",
       "      <th>offsides</th>\n",
       "      <th>goal_kicks</th>\n",
       "      <th>...</th>\n",
       "      <th>fouls_drawn_mean_attack</th>\n",
       "      <th>offsides_mean_attack</th>\n",
       "      <th>crosses_mean_attack</th>\n",
       "      <th>tackles_on_mean_attack</th>\n",
       "      <th>interceptions_mean_attack</th>\n",
       "      <th>own_goals_mean_attack</th>\n",
       "      <th>penalty_kicks_won_mean_attack</th>\n",
       "      <th>penalty_kicks_conceded_mean_attack</th>\n",
       "      <th>year</th>\n",
       "      <th>is_home</th>\n",
       "    </tr>\n",
       "  </thead>\n",
       "  <tbody>\n",
       "    <tr>\n",
       "      <th>0</th>\n",
       "      <td>23.0</td>\n",
       "      <td>3.0</td>\n",
       "      <td>11.0</td>\n",
       "      <td>436.0</td>\n",
       "      <td>12.0</td>\n",
       "      <td>5.0</td>\n",
       "      <td>7.0</td>\n",
       "      <td>18.0</td>\n",
       "      <td>2.0</td>\n",
       "      <td>4.0</td>\n",
       "      <td>...</td>\n",
       "      <td>0.0</td>\n",
       "      <td>2.0</td>\n",
       "      <td>1.0</td>\n",
       "      <td>0.0</td>\n",
       "      <td>1.0</td>\n",
       "      <td>0.0</td>\n",
       "      <td>NaN</td>\n",
       "      <td>NaN</td>\n",
       "      <td>2019</td>\n",
       "      <td>0</td>\n",
       "    </tr>\n",
       "    <tr>\n",
       "      <th>1</th>\n",
       "      <td>23.0</td>\n",
       "      <td>3.0</td>\n",
       "      <td>11.0</td>\n",
       "      <td>436.0</td>\n",
       "      <td>12.0</td>\n",
       "      <td>5.0</td>\n",
       "      <td>7.0</td>\n",
       "      <td>18.0</td>\n",
       "      <td>2.0</td>\n",
       "      <td>4.0</td>\n",
       "      <td>...</td>\n",
       "      <td>0.0</td>\n",
       "      <td>2.0</td>\n",
       "      <td>1.0</td>\n",
       "      <td>0.0</td>\n",
       "      <td>1.0</td>\n",
       "      <td>0.0</td>\n",
       "      <td>NaN</td>\n",
       "      <td>NaN</td>\n",
       "      <td>2019</td>\n",
       "      <td>0</td>\n",
       "    </tr>\n",
       "  </tbody>\n",
       "</table>\n",
       "<p>2 rows × 120 columns</p>\n",
       "</div>"
      ],
      "text/plain": [
       "   fouls  corners  crosses  touches  tackles  interceptions  aerials_won  \\\n",
       "0   23.0      3.0     11.0    436.0     12.0            5.0          7.0   \n",
       "1   23.0      3.0     11.0    436.0     12.0            5.0          7.0   \n",
       "\n",
       "   clearances  offsides  goal_kicks  ...  fouls_drawn_mean_attack  \\\n",
       "0        18.0       2.0         4.0  ...                      0.0   \n",
       "1        18.0       2.0         4.0  ...                      0.0   \n",
       "\n",
       "   offsides_mean_attack  crosses_mean_attack tackles_on_mean_attack  \\\n",
       "0                   2.0                  1.0                    0.0   \n",
       "1                   2.0                  1.0                    0.0   \n",
       "\n",
       "   interceptions_mean_attack own_goals_mean_attack  \\\n",
       "0                        1.0                   0.0   \n",
       "1                        1.0                   0.0   \n",
       "\n",
       "  penalty_kicks_won_mean_attack penalty_kicks_conceded_mean_attack  year  \\\n",
       "0                           NaN                                NaN  2019   \n",
       "1                           NaN                                NaN  2019   \n",
       "\n",
       "   is_home  \n",
       "0        0  \n",
       "1        0  \n",
       "\n",
       "[2 rows x 120 columns]"
      ]
     },
     "execution_count": 334,
     "metadata": {},
     "output_type": "execute_result"
    }
   ],
   "source": [
    "df.head(2)"
   ]
  },
  {
   "cell_type": "code",
   "execution_count": 335,
   "metadata": {},
   "outputs": [
    {
     "name": "stdout",
     "output_type": "stream",
     "text": [
      "CPU times: user 10.7 ms, sys: 59 µs, total: 10.8 ms\n",
      "Wall time: 9.88 ms\n"
     ]
    }
   ],
   "source": [
    "%%time\n",
    "\n",
    "# df['date'] = pd.to_datetime(df['date'])\n",
    "df['time'] = df['time'].apply(lambda time: time.split(':')[0]).astype(int)"
   ]
  },
  {
   "cell_type": "code",
   "execution_count": 336,
   "metadata": {},
   "outputs": [],
   "source": [
    "# df['year'] = df['date'].dt.year\n",
    "# df['month'] = df['date'].dt.month\n",
    "# df['quarter'] = df['date'].dt.quarter\n",
    "# df['day'] = df['date'].dt.day"
   ]
  },
  {
   "cell_type": "code",
   "execution_count": 337,
   "metadata": {},
   "outputs": [],
   "source": [
    "cols_to_remove = [\n",
    "    'score',\n",
    "#     \"date\",\n",
    "#     'team',\n",
    "    \"stadium\",\n",
    "    \"state\",\n",
    "    \"UF\",\n",
    "#     \"match_id\"\n",
    "]\n",
    "y_col = 'score'"
   ]
  },
  {
   "cell_type": "code",
   "execution_count": 338,
   "metadata": {},
   "outputs": [
    {
     "name": "stdout",
     "output_type": "stream",
     "text": [
      "CPU times: user 8.68 ms, sys: 0 ns, total: 8.68 ms\n",
      "Wall time: 6.96 ms\n"
     ]
    }
   ],
   "source": [
    "%%time\n",
    "df.drop(columns=cols_to_remove, inplace=True)"
   ]
  },
  {
   "cell_type": "code",
   "execution_count": 339,
   "metadata": {},
   "outputs": [
    {
     "name": "stdout",
     "output_type": "stream",
     "text": [
      "CPU times: user 3.67 ms, sys: 0 ns, total: 3.67 ms\n",
      "Wall time: 3.47 ms\n"
     ]
    }
   ],
   "source": [
    "%%time\n",
    "team_dict = {}\n",
    "for idx, team in enumerate(df['team'].unique()):\n",
    "    team_dict[team] = idx"
   ]
  },
  {
   "cell_type": "code",
   "execution_count": null,
   "metadata": {},
   "outputs": [],
   "source": []
  },
  {
   "cell_type": "code",
   "execution_count": 340,
   "metadata": {},
   "outputs": [
    {
     "name": "stdout",
     "output_type": "stream",
     "text": [
      "CPU times: user 64 µs, sys: 1e+03 ns, total: 65 µs\n",
      "Wall time: 71.3 µs\n"
     ]
    }
   ],
   "source": [
    "%%time\n",
    "feature_cols = [col for col in df.columns if col not in cols_to_remove]"
   ]
  },
  {
   "cell_type": "code",
   "execution_count": 341,
   "metadata": {},
   "outputs": [
    {
     "name": "stdout",
     "output_type": "stream",
     "text": [
      "CPU times: user 6.55 s, sys: 8.28 ms, total: 6.56 s\n",
      "Wall time: 6.55 s\n"
     ]
    }
   ],
   "source": [
    "%%time\n",
    "\n",
    "df_home_teams = pd.DataFrame()\n",
    "df_adversary_teams = pd.DataFrame()\n",
    "\n",
    "df_teams = pd.DataFrame()\n",
    "for team in df['team'].unique():\n",
    "    cols_to_drop = ['is_home', 'team', 'result']\n",
    "    unique_cols = ['match_id', 'matchweek', 'time', 'year']\n",
    "\n",
    "    df_team = df[df['team'] == team].copy().reset_index(drop=True)\n",
    "    df_others_teams = df[\n",
    "        (df['team'] != team) &\n",
    "        (df['match_id'].isin(df_team['match_id'].tolist()))\n",
    "    ].copy().reset_index(drop=True)\n",
    "    \n",
    "    columns = [col for col in df_team.columns if col not in cols_to_drop]\n",
    "    df_team.loc[df_team.index >= 3, columns] = (\n",
    "        df_team[columns]\n",
    "        .shift(1)\n",
    "        .rolling(3)\n",
    "        .mean()\n",
    "        .iloc[3:]\n",
    "    ).copy()\n",
    "\n",
    "    df_others_teams.loc[df_others_teams.index >= 3, columns] = (\n",
    "        df_team[columns]\n",
    "        .shift(1)\n",
    "        .rolling(3)\n",
    "        .mean()\n",
    "        .iloc[3:]\n",
    "    ).copy()\n",
    "\n",
    "    df_others_teams.drop(columns=cols_to_drop, inplace=True)\n",
    "    df_others_teams.columns = [\n",
    "        col + '_adversary' if col not in unique_cols else col for col in df_others_teams.columns\n",
    "    ]\n",
    "    \n",
    "    \n",
    "#     df_home_teams = df_home_teams.append(df_team)\n",
    "#     df_adversary_teams = df_adversary_teams.append(df_others_teams)\n",
    "\n",
    "    for col in [column for column in df_others_teams.columns if column.endswith('adversary')]:\n",
    "        df_team[col] = df_others_teams[col]\n",
    "#     df_teams = df_teams.append(\n",
    "#         df_team.merge(df_others_teams, on='match_id')\n",
    "#     )"
   ]
  },
  {
   "cell_type": "code",
   "execution_count": 342,
   "metadata": {},
   "outputs": [],
   "source": [
    "df_teams = df_team"
   ]
  },
  {
   "cell_type": "code",
   "execution_count": null,
   "metadata": {},
   "outputs": [],
   "source": []
  },
  {
   "cell_type": "code",
   "execution_count": 343,
   "metadata": {},
   "outputs": [
    {
     "name": "stdout",
     "output_type": "stream",
     "text": [
      "CPU times: user 4 µs, sys: 0 ns, total: 4 µs\n",
      "Wall time: 7.15 µs\n"
     ]
    }
   ],
   "source": [
    "%%time\n",
    "\n",
    "# df_home_teams = df_home_teams.append(df_team)\n",
    "# df_adversary_teams = df_adversary_teams.append(df_others_teams)\n",
    "\n",
    "# df_teams = df_home_teams.merge(df_adversary_teams, on=unique_cols)"
   ]
  },
  {
   "cell_type": "code",
   "execution_count": 344,
   "metadata": {},
   "outputs": [],
   "source": [
    "# 1/0"
   ]
  },
  {
   "cell_type": "code",
   "execution_count": 345,
   "metadata": {},
   "outputs": [],
   "source": [
    "df_teams = df_teams[~df_teams['team'].isna()].copy()"
   ]
  },
  {
   "cell_type": "code",
   "execution_count": 346,
   "metadata": {},
   "outputs": [],
   "source": [
    "df_teams['team'] = df_teams['team'].apply(lambda team: team_dict[team])"
   ]
  },
  {
   "cell_type": "code",
   "execution_count": 347,
   "metadata": {},
   "outputs": [
    {
     "name": "stdout",
     "output_type": "stream",
     "text": [
      "CPU times: user 3.87 ms, sys: 0 ns, total: 3.87 ms\n",
      "Wall time: 3.65 ms\n"
     ]
    }
   ],
   "source": [
    "%%time\n",
    "\n",
    "result_map = {\n",
    "    'L': 0,\n",
    "    'D': 1,\n",
    "    'W': 3\n",
    "}\n",
    "\n",
    "df_teams = df_teams[~df_teams['result'].isna()]\n",
    "df_teams['result'] = df_teams['result'].apply(lambda result: result_map[result])"
   ]
  },
  {
   "cell_type": "code",
   "execution_count": 348,
   "metadata": {},
   "outputs": [],
   "source": [
    "df_teams['result'].fillna(-1, inplace=True)\n",
    "df_teams = df_teams[df_teams['result'] != -1]\n",
    "df_teams['result'] = df_teams['result'].astype(int)"
   ]
  },
  {
   "cell_type": "code",
   "execution_count": 349,
   "metadata": {},
   "outputs": [],
   "source": [
    "df_teams['date'] = pd.to_datetime(df_teams['date'])\n",
    "\n",
    "df_teams['quarter'] = df_teams['date'].dt.quarter\n",
    "df_teams['month'] = df_teams['date'].dt.month\n",
    "df_teams['date'] = df_teams['date'].apply(lambda date: date.weekday())"
   ]
  },
  {
   "cell_type": "code",
   "execution_count": 350,
   "metadata": {},
   "outputs": [],
   "source": [
    "df_teams.drop(columns=['date', 'date_adversary'], inplace=True)"
   ]
  },
  {
   "cell_type": "code",
   "execution_count": 351,
   "metadata": {},
   "outputs": [],
   "source": [
    "X = df_teams.drop(columns=['result'])\n",
    "Y = df_teams['result']"
   ]
  },
  {
   "cell_type": "code",
   "execution_count": 352,
   "metadata": {},
   "outputs": [],
   "source": [
    "# score\n",
    "# result\n",
    "\n",
    "# df.drop(columns=['result'], inplace=True)"
   ]
  },
  {
   "cell_type": "code",
   "execution_count": 353,
   "metadata": {},
   "outputs": [],
   "source": [
    "# df.drop(columns=cols_to_remove, inplace=True)"
   ]
  },
  {
   "cell_type": "code",
   "execution_count": 354,
   "metadata": {},
   "outputs": [],
   "source": [
    "# df"
   ]
  },
  {
   "cell_type": "code",
   "execution_count": null,
   "metadata": {},
   "outputs": [],
   "source": []
  },
  {
   "cell_type": "code",
   "execution_count": 355,
   "metadata": {},
   "outputs": [],
   "source": [
    "# model = XGBClassifier()\n",
    "\n",
    "# rfe = RFE(model, 25)\n",
    "# fit = rfe.fit(X, Y)\n",
    "# print(\"Num Features: %d\" % fit.n_features_)\n",
    "# print(\"Selected Features: %s\" % fit.support_)\n",
    "# print(\"Feature Ranking: %s\" % fit.ranking_)"
   ]
  },
  {
   "cell_type": "code",
   "execution_count": 356,
   "metadata": {},
   "outputs": [],
   "source": [
    "# from sklearn.feature_selection import SelectKBest\n",
    "# from sklearn.feature_selection import f_classif\n",
    "\n",
    "# test = SelectKBest(score_func=f_classif, k=25)\n",
    "# fit = test.fit(X, Y)\n",
    "# # summarize scores\n",
    "# print(fit.scores_)\n",
    "# features = fit.transform(X)"
   ]
  },
  {
   "cell_type": "code",
   "execution_count": 357,
   "metadata": {},
   "outputs": [],
   "source": [
    "# cols = np.array(np.array(X.columns.tolist()))[list(fit.support_)]"
   ]
  },
  {
   "cell_type": "code",
   "execution_count": 358,
   "metadata": {},
   "outputs": [],
   "source": [
    "# X = X[cols]"
   ]
  },
  {
   "cell_type": "code",
   "execution_count": 359,
   "metadata": {},
   "outputs": [],
   "source": [
    "# X_train, X_test, y_train, y_test = train_test_split(X, Y, test_size=0.3, random_state=7)"
   ]
  },
  {
   "cell_type": "code",
   "execution_count": 360,
   "metadata": {},
   "outputs": [],
   "source": [
    "def mean_absolute_percentage_error(y_true, y_pred): \n",
    "    y_true = np.array(y_true)\n",
    "    y_pred = np.array(y_pred)\n",
    "    \n",
    "    difference = list(np.abs((y_true - y_pred) / y_true))\n",
    "    difference = [diff if diff != np.inf and not pd.isnull(diff) else 0 for diff in difference]\n",
    "    return np.mean(difference)\n"
   ]
  },
  {
   "cell_type": "code",
   "execution_count": 361,
   "metadata": {},
   "outputs": [],
   "source": [
    "X.sort_values(['matchweek', 'team'], inplace=True)"
   ]
  },
  {
   "cell_type": "code",
   "execution_count": 362,
   "metadata": {},
   "outputs": [
    {
     "name": "stderr",
     "output_type": "stream",
     "text": [
      "/usr/local/lib/python3.8/dist-packages/sklearn/utils/validation.py:67: FutureWarning: Pass n_features_to_select=80 as keyword args. From version 0.25 passing these as positional arguments will result in an error\n",
      "  warnings.warn(\"Pass {} as keyword args. From version 0.25 \"\n"
     ]
    },
    {
     "name": "stdout",
     "output_type": "stream",
     "text": [
      "CPU times: user 2min 11s, sys: 593 ms, total: 2min 11s\n",
      "Wall time: 34.7 s\n"
     ]
    }
   ],
   "source": [
    "%%time\n",
    "# # n_cols_list = [5, 15, 25, 35, 45, 50, 63, 72, 84, 90, 100]\n",
    "# # for n_cols in n_cols_list:\n",
    "n_cols = 80\n",
    "\n",
    "model = XGBClassifier()\n",
    "\n",
    "rfe = RFE(model, n_cols)\n",
    "fit = rfe.fit(X.iloc[:1000], Y.iloc[:1000])\n",
    "\n",
    "cols = np.array(np.array(X.columns.tolist()))[list(fit.support_)]\n",
    "X_new = X[cols]\n"
   ]
  },
  {
   "cell_type": "code",
   "execution_count": 363,
   "metadata": {},
   "outputs": [],
   "source": [
    "# X_new = X\n",
    "X_train, X_test, y_train, y_test = train_test_split(X_new, Y, test_size=0.1, random_state=7)"
   ]
  },
  {
   "cell_type": "code",
   "execution_count": 364,
   "metadata": {},
   "outputs": [],
   "source": [
    "# %%time\n",
    "# parameters = {\n",
    "#     'eta': [0.05, 0.1, 0.3],\n",
    "#     'max_depth': [5, 6, 9, 12, 20],\n",
    "#     'subsample': [0.7, 0.6, 0.8, 1.0],\n",
    "#     'colsample_bytree': [0.3, 0.6, 0.8, 1.0],\n",
    "#     'min_child_weight': [1, 5, 8, 10],\n",
    "#     'gamma': [0.5, 1, 1.5, 2, 5],\n",
    "#     'n_estimators': [50, 100, 150, 500, 1000]\n",
    "# }\n",
    "\n",
    "# clf = GridSearchCV(model, parameters, n_jobs=1, cv=3)\n",
    "\n",
    "# clf.fit(X_train, y_train)\n",
    "\n",
    "# best_parameters = clf.best_params_\n",
    "\n",
    "# model = XGBRegressor(**best_parameters)\n",
    "model = XGBClassifier()"
   ]
  },
  {
   "cell_type": "code",
   "execution_count": 365,
   "metadata": {},
   "outputs": [
    {
     "name": "stdout",
     "output_type": "stream",
     "text": [
      "Accuracy with 80 columns: 95.65%\n",
      "Precision with 80 columns: 0.95\n",
      "Recall with 80 columns: 0.97\n",
      "F1 with 80 columns: 0.96\n",
      "CPU times: user 678 ms, sys: 7.87 ms, total: 686 ms\n",
      "Wall time: 193 ms\n"
     ]
    },
    {
     "name": "stderr",
     "output_type": "stream",
     "text": [
      "<ipython-input-360-70d46a524b4a>:5: RuntimeWarning: invalid value encountered in true_divide\n",
      "  difference = list(np.abs((y_true - y_pred) / y_true))\n"
     ]
    }
   ],
   "source": [
    "%%time\n",
    "from sklearn.metrics import accuracy_score, f1_score, precision_score, recall_score\n",
    "\n",
    "\n",
    "model.fit(X_train, y_train)\n",
    "\n",
    "y_pred = list(model.predict(X_test))\n",
    "predictions = list([round(value) for value in y_pred])\n",
    "\n",
    "# evaluate predictions\n",
    "accuracy = mean_absolute_percentage_error(y_test, predictions)\n",
    "f1 = f1_score(y_test, predictions, average='macro')\n",
    "precision = precision_score(y_test, predictions, average='macro')\n",
    "recall = recall_score(y_test, predictions, average='macro')\n",
    "\n",
    "print(\"Accuracy with {} columns: {:.2f}%\".format(n_cols, 100 - accuracy * 100.0))\n",
    "print(\"Precision with {} columns: {:.2f}\".format(n_cols, precision))\n",
    "print(\"Recall with {} columns: {:.2f}\".format(n_cols, recall))\n",
    "print(\"F1 with {} columns: {:.2f}\".format(n_cols, f1))\n"
   ]
  },
  {
   "cell_type": "code",
   "execution_count": 366,
   "metadata": {},
   "outputs": [
    {
     "data": {
      "text/plain": [
       "1    11\n",
       "3     6\n",
       "0     6\n",
       "Name: result, dtype: int64"
      ]
     },
     "execution_count": 366,
     "metadata": {},
     "output_type": "execute_result"
    }
   ],
   "source": [
    "y_test.value_counts()"
   ]
  },
  {
   "cell_type": "code",
   "execution_count": null,
   "metadata": {},
   "outputs": [],
   "source": []
  },
  {
   "cell_type": "code",
   "execution_count": 367,
   "metadata": {},
   "outputs": [],
   "source": [
    "# param_test1 = {\n",
    "#  'max_depth':range(3,10,2),\n",
    "#  'min_child_weight':range(1,6,2)\n",
    "# }\n",
    "# gsearch1 = GridSearchCV(estimator = XGBClassifier( learning_rate =0.1, n_estimators=140, max_depth=5,\n",
    "#  min_child_weight=1, gamma=0, subsample=0.8, colsample_bytree=0.8,\n",
    "#  objective= 'binary:logistic', nthread=4, scale_pos_weight=1, seed=27), \n",
    "#  param_grid = param_test1, scoring='roc_auc',n_jobs=4,iid=False, cv=5)\n",
    "# gsearch1.fit(train[predictors],train[target])\n",
    "# gsearch1.grid_scores_, gsearch1.best_params_, gsearch1.best_score_"
   ]
  },
  {
   "cell_type": "code",
   "execution_count": null,
   "metadata": {},
   "outputs": [],
   "source": []
  },
  {
   "cell_type": "markdown",
   "metadata": {},
   "source": [
    "# =================================================="
   ]
  },
  {
   "cell_type": "code",
   "execution_count": 368,
   "metadata": {},
   "outputs": [],
   "source": [
    "match_per_round = df['matchweek'].value_counts().to_frame()\n",
    "last_matchweek = match_per_round[match_per_round > 5].sort_values('matchweek', ascending=False).iloc[0].name"
   ]
  },
  {
   "cell_type": "code",
   "execution_count": 369,
   "metadata": {},
   "outputs": [],
   "source": [
    "last_match_id = df['match_id'].max()"
   ]
  },
  {
   "cell_type": "code",
   "execution_count": 370,
   "metadata": {},
   "outputs": [],
   "source": [
    "next_matches = pd.read_csv('data/2020_all_matches.csv')"
   ]
  },
  {
   "cell_type": "code",
   "execution_count": 371,
   "metadata": {},
   "outputs": [],
   "source": [
    "next_matches['Score'] = next_matches['Score'].fillna('')"
   ]
  },
  {
   "cell_type": "code",
   "execution_count": 372,
   "metadata": {},
   "outputs": [],
   "source": [
    "next_matches = next_matches[next_matches['Score'] == '']\n",
    "next_matches['Wk'] = next_matches['Wk'].fillna('')\n",
    "next_matches = next_matches[next_matches['Wk'] != '']"
   ]
  },
  {
   "cell_type": "code",
   "execution_count": 373,
   "metadata": {},
   "outputs": [],
   "source": [
    "next_matches = next_matches[next_matches['Wk'] > last_matchweek]"
   ]
  },
  {
   "cell_type": "code",
   "execution_count": 374,
   "metadata": {},
   "outputs": [],
   "source": [
    "def make_dataset(interested_team, other_team, cols):\n",
    "    cols_to_use = [col for col in interested_team.columns if 'adversary' not in col]\n",
    "    \n",
    "    interested_team = interested_team[cols_to_use]\n",
    "    other_team = other_team[cols_to_use]\n",
    "    \n",
    "    other_team.columns = [col + '_adversary' if col not in ['result', 'match_id'] else col for col in interested_team.columns ]\n",
    "    \n",
    "    df = interested_team.merge(other_team, on='match_id')\n",
    "\n",
    "    return df[cols]\n",
    "    "
   ]
  },
  {
   "cell_type": "code",
   "execution_count": 379,
   "metadata": {},
   "outputs": [],
   "source": [
    "predictions = pd.DataFrame()"
   ]
  },
  {
   "cell_type": "code",
   "execution_count": 375,
   "metadata": {},
   "outputs": [
    {
     "name": "stdout",
     "output_type": "stream",
     "text": [
      "Rodada 6:\n",
      " Atlético Mineiro: 0 \n",
      "  Atl Paranaense: 3\n",
      "\n",
      "\n",
      "Rodada 6:\n",
      " Grêmio: 1 \n",
      "  Goiás: 0\n",
      "\n",
      "\n",
      "Rodada 15:\n",
      " Vasco da Gama: 0 \n",
      "  Flamengo: 0\n",
      "\n",
      "\n",
      "Rodada 15:\n",
      " Coritiba: 0 \n",
      "  Fortaleza: 0\n",
      "\n",
      "\n",
      "Rodada 15:\n",
      " Palmeiras: 1 \n",
      "  São Paulo: 0\n",
      "\n",
      "\n",
      "Rodada 15:\n",
      " Atlético Mineiro: 0 \n",
      "  Goiás: 3\n",
      "\n",
      "\n",
      "Rodada 15:\n",
      " Fluminense: 1 \n",
      "  Bahia: 0\n",
      "\n",
      "\n",
      "Rodada 15:\n",
      " Santos: 0 \n",
      "  Grêmio: 0\n",
      "\n",
      "\n",
      "Rodada 15:\n",
      " Sport Recife: 1 \n",
      "  Botafogo (RJ): 3\n",
      "\n",
      "\n",
      "Rodada 15:\n",
      " Atl Goianiense: 0 \n",
      "  Bragantino: 0\n",
      "\n",
      "\n",
      "Rodada 15:\n",
      " Ceará: 1 \n",
      "  Corinthians: 0\n",
      "\n",
      "\n",
      "Rodada 15:\n",
      " Internacional: 0 \n",
      "  Atl Paranaense: 1\n",
      "\n",
      "\n",
      "Rodada 11:\n",
      " Flamengo: 0 \n",
      "  Goiás: 0\n",
      "\n",
      "\n"
     ]
    }
   ],
   "source": [
    "problem_teams = []\n",
    "for next_match in next_matches.iterrows():\n",
    "    try:\n",
    "        next_match = next_match[1].to_frame().transpose()\n",
    "        team1, team2 = next_match[['Home', 'Away']].iloc[0]\n",
    "        date = pd.to_datetime(next_match['Date'].iloc[0])\n",
    "        time = next_match['Time'].iloc[0].split(':')[0]\n",
    "        matchweek = int(next_match['Wk'].iloc[0])\n",
    "\n",
    "        if team1 not in team_dict.keys():\n",
    "            team_dict[team1] = max(team_dict.values()) + 1\n",
    "\n",
    "        if team2 not in team_dict.keys():\n",
    "            team_dict[team2] = max(team_dict.values()) + 1\n",
    "\n",
    "\n",
    "        if matchweek >= last_matchweek + 1:\n",
    "\n",
    "            cols = X_new.columns.tolist()\n",
    "            mean_features_team1 = df[df['team'] == team1].copy()  # [cols]\n",
    "            mean_features_team2 = df[df['team'] == team2].copy()  # [cols]\n",
    "            \n",
    "            if mean_features_team1.shape[0] == 0:\n",
    "                print(team1)\n",
    "            \n",
    "            if mean_features_team2.shape[0] == 0:\n",
    "                print(team2)\n",
    "            mean_features_team1['match_id'] = last_match_id + 1\n",
    "            mean_features_team2['match_id'] = last_match_id + 1\n",
    "\n",
    "        #     for col in cols:\n",
    "        #         mean_features_team1[col] = mean_features_team1[col].shift(1).rolling(window=3).mean().copy()\n",
    "        #         mean_features_team2[col] = mean_features_team2[col].shift(1).rolling(window=3).mean().copy()\n",
    "\n",
    "            for col in df.columns:\n",
    "                if df[col].dtype != object and col not in ['score', 'match_id']:\n",
    "                    mean_features_team1[col] = mean_features_team1[col].shift(1).rolling(window=3).mean().copy()\n",
    "                    mean_features_team2[col] = mean_features_team2[col].shift(1).rolling(window=3).mean().copy()\n",
    "\n",
    "            mean_features_team1 = mean_features_team1.iloc[-1:].copy()\n",
    "            mean_features_team2 = mean_features_team2.iloc[-1:].copy()\n",
    "\n",
    "            mean_features_team1['is_home'] = 1\n",
    "            mean_features_team2['is_home'] = 0\n",
    "\n",
    "            mean_features_team1['team'] = team_dict[team1]\n",
    "            mean_features_team2['team'] = team_dict[team2]\n",
    "\n",
    "            dataset_team1 = make_dataset(mean_features_team1, mean_features_team2, cols).round(2)\n",
    "            dataset_team2 = make_dataset(mean_features_team2, mean_features_team1, cols).round(2)\n",
    "\n",
    "            game_prediction = dataset_team1.append(dataset_team2)\n",
    "            prediction = [round(prediction) for prediction in list(model.predict(game_prediction))]\n",
    "        #     print(f\"Rodada {matchweek}: {team1} {prediction[0]} x {prediction[1]} {team2}!\")\n",
    "            print(f\"Rodada {matchweek}:\\n {team1}: {prediction[0]} \\n  {team2}: {prediction[1]}\\n\\n\")\n",
    "            last_match_id += 1\n",
    "            \n",
    "    except Exception as e:\n",
    "#         print(mean_features_team1.shape)\n",
    "#         print(mean_features_team2.shape)\n",
    "        pass"
   ]
  },
  {
   "cell_type": "code",
   "execution_count": 376,
   "metadata": {},
   "outputs": [
    {
     "data": {
      "text/plain": [
       "{'São Paulo': 0,\n",
       " 'Botafogo (RJ)': 1,\n",
       " 'Fortaleza': 2,\n",
       " 'Atl Paranaense': 3,\n",
       " 'Chapecoense': 4,\n",
       " 'Internacional': 5,\n",
       " 'Coritiba': 6,\n",
       " 'Atlético Mineiro': 7,\n",
       " 'Avaí': 8,\n",
       " 'Sport Recife': 9,\n",
       " 'Ceará': 10,\n",
       " 'Flamengo': 11,\n",
       " 'Cruzeiro': 12,\n",
       " 'Grêmio': 13,\n",
       " 'Santos': 14,\n",
       " 'Bragantino': 15,\n",
       " 'CSA': 16,\n",
       " 'Fluminense': 17,\n",
       " 'Vasco da Gama': 18,\n",
       " 'Corinthians': 19,\n",
       " 'Bahia': 20,\n",
       " 'Palmeiras': 21,\n",
       " 'Goiás': 22,\n",
       " 'Atl Goianiense': 23}"
      ]
     },
     "execution_count": 376,
     "metadata": {},
     "output_type": "execute_result"
    }
   ],
   "source": [
    "team_dict"
   ]
  },
  {
   "cell_type": "code",
   "execution_count": 377,
   "metadata": {},
   "outputs": [
    {
     "data": {
      "text/plain": [
       "<AxesSubplot:title={'center':'Feature importance'}, xlabel='F score', ylabel='Features'>"
      ]
     },
     "execution_count": 377,
     "metadata": {},
     "output_type": "execute_result"
    },
    {
     "data": {
      "image/png": "[encoded data removed]",
      "text/plain": [
       "<Figure size 432x288 with 1 Axes>"
      ]
     },
     "metadata": {
      "needs_background": "light"
     },
     "output_type": "display_data"
    }
   ],
   "source": [
    "from xgboost import plot_importance\n",
    "plot_importance(model, max_num_features=10)"
   ]
  },
  {
   "cell_type": "code",
   "execution_count": 378,
   "metadata": {},
   "outputs": [
    {
     "data": {
      "text/plain": [
       "array(['São Paulo', 'Botafogo (RJ)', 'Fortaleza', 'Atl Paranaense',\n",
       "       'Chapecoense', 'Internacional', 'Coritiba', 'Atlético Mineiro',\n",
       "       'Avaí', 'Sport Recife', 'Ceará', 'Flamengo', 'Cruzeiro', 'Grêmio',\n",
       "       'Santos', 'Bragantino', 'CSA', 'Fluminense', 'Vasco da Gama',\n",
       "       'Corinthians', 'Bahia', 'Palmeiras', 'Goiás', 'Atl Goianiense'],\n",
       "      dtype=object)"
      ]
     },
     "execution_count": 378,
     "metadata": {},
     "output_type": "execute_result"
    }
   ],
   "source": [
    "df['team'].unique()"
   ]
  },
  {
   "cell_type": "code",
   "execution_count": null,
   "metadata": {},
   "outputs": [],
   "source": []
  }
 ],
 "metadata": {
  "kernelspec": {
   "display_name": "Python 3",
   "language": "python",
   "name": "python3"
  },
  "language_info": {
   "codemirror_mode": {
    "name": "ipython",
    "version": 3
   },
   "file_extension": ".py",
   "mimetype": "text/x-python",
   "name": "python",
   "nbconvert_exporter": "python",
   "pygments_lexer": "ipython3",
   "version": "3.8.0"
  }
 },
 "nbformat": 4,
 "nbformat_minor": 4
}
