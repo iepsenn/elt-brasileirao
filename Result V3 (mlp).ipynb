{
 "cells": [
  {
   "cell_type": "code",
   "execution_count": 1,
   "metadata": {},
   "outputs": [],
   "source": [
    "import pandas as pd\n",
    "import numpy as np\n",
    "from sklearn.model_selection import GridSearchCV\n",
    "\n",
    "from sklearn.feature_selection import RFE\n",
    "from xgboost import XGBClassifier\n",
    "from sklearn.model_selection import train_test_split\n",
    "from sklearn.metrics import accuracy_score\n",
    "from sklearn.metrics import mean_absolute_error"
   ]
  },
  {
   "cell_type": "code",
   "execution_count": 1,
   "metadata": {},
   "outputs": [
    {
     "ename": "ModuleNotFoundError",
     "evalue": "No module named 'tensorflow'",
     "output_type": "error",
     "traceback": [
      "\u001b[0;31m---------------------------------------------------------------------------\u001b[0m",
      "\u001b[0;31mModuleNotFoundError\u001b[0m                       Traceback (most recent call last)",
      "\u001b[0;32m<ipython-input-1-5fb21b605437>\u001b[0m in \u001b[0;36m<module>\u001b[0;34m\u001b[0m\n\u001b[0;32m----> 1\u001b[0;31m \u001b[0;32mfrom\u001b[0m \u001b[0mtensorflow\u001b[0m\u001b[0;34m.\u001b[0m\u001b[0mkeras\u001b[0m\u001b[0;34m.\u001b[0m\u001b[0mmodels\u001b[0m \u001b[0;32mimport\u001b[0m \u001b[0mSequential\u001b[0m\u001b[0;34m\u001b[0m\u001b[0;34m\u001b[0m\u001b[0m\n\u001b[0m\u001b[1;32m      2\u001b[0m \u001b[0;32mfrom\u001b[0m \u001b[0mtensorflow\u001b[0m\u001b[0;34m.\u001b[0m\u001b[0mkeras\u001b[0m\u001b[0;34m.\u001b[0m\u001b[0mlayers\u001b[0m \u001b[0;32mimport\u001b[0m \u001b[0mDense\u001b[0m\u001b[0;34m\u001b[0m\u001b[0;34m\u001b[0m\u001b[0m\n\u001b[1;32m      3\u001b[0m \u001b[0;32mfrom\u001b[0m \u001b[0mtensorflow\u001b[0m\u001b[0;34m.\u001b[0m\u001b[0mkeras\u001b[0m\u001b[0;34m.\u001b[0m\u001b[0mutils\u001b[0m \u001b[0;32mimport\u001b[0m \u001b[0mto_categorical\u001b[0m\u001b[0;34m\u001b[0m\u001b[0;34m\u001b[0m\u001b[0m\n\u001b[1;32m      4\u001b[0m \u001b[0;32mfrom\u001b[0m \u001b[0mkeras\u001b[0m\u001b[0;34m.\u001b[0m\u001b[0mmodels\u001b[0m \u001b[0;32mimport\u001b[0m \u001b[0mSequential\u001b[0m\u001b[0;34m\u001b[0m\u001b[0;34m\u001b[0m\u001b[0m\n\u001b[1;32m      5\u001b[0m \u001b[0;32mfrom\u001b[0m \u001b[0mkeras\u001b[0m\u001b[0;34m.\u001b[0m\u001b[0mlayers\u001b[0m \u001b[0;32mimport\u001b[0m \u001b[0mDense\u001b[0m\u001b[0;34m,\u001b[0m \u001b[0mDropout\u001b[0m\u001b[0;34m\u001b[0m\u001b[0;34m\u001b[0m\u001b[0m\n",
      "\u001b[0;31mModuleNotFoundError\u001b[0m: No module named 'tensorflow'"
     ]
    }
   ],
   "source": [
    "from tensorflow.keras.models import Sequential\n",
    "from tensorflow.keras.layers import Dense\n",
    "from tensorflow.keras.utils import to_categorical\n",
    "from keras.models import Sequential\n",
    "from keras.layers import Dense, Dropout\n",
    "from keras import regularizers\n",
    "from keras.optimizers import SGD"
   ]
  },
  {
   "cell_type": "code",
   "execution_count": 2,
   "metadata": {},
   "outputs": [],
   "source": [
    "# model=Sequential()\n",
    "# model.add(BatchNormalization())\n",
    "# model.add(Dropout(0.20))\n",
    "# model.add(Dense(2048,activation='relu',input_dim=train.shape[1],kernel_initializer='uniform'))\n",
    "# model.add(BatchNormalization())\n",
    "# model.add(Dense(2048,activation='tanh'))\n",
    "# model.add(Dropout(0.2))\n",
    "# model.add(Dense(1048,activation='tanh'))\n",
    "# model.add(BatchNormalization())\n",
    "# model.add(Dropout(0.25))\n",
    "# #model.add(Dense(1024,kernel_initializer='uniform',activation='tanh'))\n",
    "# #model.add(Dropout(0.5))\n",
    "# model.add(Dense(target.shape[1],activation='sigmoid'))\n",
    "\n",
    "\n",
    "# sgd=SGD(lr=0.01,momentum=0.9)\n",
    "# model.compile(optimizer=sgd,loss='binary_crossentropy',metrics=['accuracy'])\n",
    "# model.fit(train.values,target.values,batch_size=60,epochs=100,verbose=2)\n",
    "\n"
   ]
  },
  {
   "cell_type": "code",
   "execution_count": 3,
   "metadata": {},
   "outputs": [],
   "source": [
    "df = pd.read_csv('data/serieA_matches.csv')\n",
    "df_all_matches = pd.read_csv('data/all_matches.csv')"
   ]
  },
  {
   "cell_type": "code",
   "execution_count": 4,
   "metadata": {},
   "outputs": [],
   "source": [
    "home_teams = df_all_matches[['Home', 'Venue']].drop_duplicates().values\n",
    "team_stadium = {}\n",
    "for data in home_teams:\n",
    "     team_stadium[data[0]] = data[1]"
   ]
  },
  {
   "cell_type": "code",
   "execution_count": 5,
   "metadata": {},
   "outputs": [],
   "source": [
    "df['is_home'] = team_stadium[df['team'].iloc[0]]\n",
    "df['is_home'] = df['stadium'] == df['is_home']\n",
    "df['is_home'] = df['is_home'].astype(int)"
   ]
  },
  {
   "cell_type": "code",
   "execution_count": 6,
   "metadata": {},
   "outputs": [
    {
     "data": {
      "text/plain": [
       "team       object\n",
       "result     object\n",
       "stadium    object\n",
       "state      object\n",
       "UF         object\n",
       "date       object\n",
       "time       object\n",
       "dtype: object"
      ]
     },
     "execution_count": 6,
     "metadata": {},
     "output_type": "execute_result"
    }
   ],
   "source": [
    "cols_types = df.dtypes\n",
    "cols_types[cols_types == object]"
   ]
  },
  {
   "cell_type": "code",
   "execution_count": 7,
   "metadata": {},
   "outputs": [],
   "source": [
    "#"
   ]
  },
  {
   "cell_type": "code",
   "execution_count": 8,
   "metadata": {},
   "outputs": [
    {
     "data": {
      "text/html": [
       "<div>\n",
       "<style scoped>\n",
       "    .dataframe tbody tr th:only-of-type {\n",
       "        vertical-align: middle;\n",
       "    }\n",
       "\n",
       "    .dataframe tbody tr th {\n",
       "        vertical-align: top;\n",
       "    }\n",
       "\n",
       "    .dataframe thead th {\n",
       "        text-align: right;\n",
       "    }\n",
       "</style>\n",
       "<table border=\"1\" class=\"dataframe\">\n",
       "  <thead>\n",
       "    <tr style=\"text-align: right;\">\n",
       "      <th></th>\n",
       "      <th>fouls</th>\n",
       "      <th>corners</th>\n",
       "      <th>crosses</th>\n",
       "      <th>touches</th>\n",
       "      <th>tackles</th>\n",
       "      <th>interceptions</th>\n",
       "      <th>aerials_won</th>\n",
       "      <th>clearances</th>\n",
       "      <th>offsides</th>\n",
       "      <th>goal_kicks</th>\n",
       "      <th>...</th>\n",
       "      <th>fouls_commited_mean_attack</th>\n",
       "      <th>fouls_drawn_mean_attack</th>\n",
       "      <th>offsides_mean_attack</th>\n",
       "      <th>crosses_mean_attack</th>\n",
       "      <th>tackles_on_mean_attack</th>\n",
       "      <th>interceptions_mean_attack</th>\n",
       "      <th>own_goals_mean_attack</th>\n",
       "      <th>penalty_kicks_won_mean_attack</th>\n",
       "      <th>penalty_kicks_conceded_mean_attack</th>\n",
       "      <th>is_home</th>\n",
       "    </tr>\n",
       "  </thead>\n",
       "  <tbody>\n",
       "    <tr>\n",
       "      <th>0</th>\n",
       "      <td>12.0</td>\n",
       "      <td>3.0</td>\n",
       "      <td>16.0</td>\n",
       "      <td>455</td>\n",
       "      <td>7.0</td>\n",
       "      <td>9.0</td>\n",
       "      <td>8.0</td>\n",
       "      <td>6.0</td>\n",
       "      <td>1.0</td>\n",
       "      <td>6.0</td>\n",
       "      <td>...</td>\n",
       "      <td>1.0</td>\n",
       "      <td>0.0</td>\n",
       "      <td>0.00</td>\n",
       "      <td>0.5</td>\n",
       "      <td>0.00</td>\n",
       "      <td>0.00</td>\n",
       "      <td>0.0</td>\n",
       "      <td>NaN</td>\n",
       "      <td>NaN</td>\n",
       "      <td>1</td>\n",
       "    </tr>\n",
       "    <tr>\n",
       "      <th>1</th>\n",
       "      <td>7.0</td>\n",
       "      <td>4.0</td>\n",
       "      <td>8.0</td>\n",
       "      <td>590</td>\n",
       "      <td>8.0</td>\n",
       "      <td>5.0</td>\n",
       "      <td>9.0</td>\n",
       "      <td>13.0</td>\n",
       "      <td>1.0</td>\n",
       "      <td>8.0</td>\n",
       "      <td>...</td>\n",
       "      <td>0.0</td>\n",
       "      <td>1.5</td>\n",
       "      <td>0.25</td>\n",
       "      <td>0.5</td>\n",
       "      <td>0.75</td>\n",
       "      <td>0.25</td>\n",
       "      <td>0.0</td>\n",
       "      <td>NaN</td>\n",
       "      <td>NaN</td>\n",
       "      <td>1</td>\n",
       "    </tr>\n",
       "  </tbody>\n",
       "</table>\n",
       "<p>2 rows × 119 columns</p>\n",
       "</div>"
      ],
      "text/plain": [
       "   fouls  corners  crosses  touches  tackles  interceptions  aerials_won  \\\n",
       "0   12.0      3.0     16.0      455      7.0            9.0          8.0   \n",
       "1    7.0      4.0      8.0      590      8.0            5.0          9.0   \n",
       "\n",
       "   clearances  offsides  goal_kicks  ...  fouls_commited_mean_attack  \\\n",
       "0         6.0       1.0         6.0  ...                         1.0   \n",
       "1        13.0       1.0         8.0  ...                         0.0   \n",
       "\n",
       "   fouls_drawn_mean_attack  offsides_mean_attack crosses_mean_attack  \\\n",
       "0                      0.0                  0.00                 0.5   \n",
       "1                      1.5                  0.25                 0.5   \n",
       "\n",
       "   tackles_on_mean_attack interceptions_mean_attack own_goals_mean_attack  \\\n",
       "0                    0.00                      0.00                   0.0   \n",
       "1                    0.75                      0.25                   0.0   \n",
       "\n",
       "  penalty_kicks_won_mean_attack penalty_kicks_conceded_mean_attack  is_home  \n",
       "0                           NaN                                NaN        1  \n",
       "1                           NaN                                NaN        1  \n",
       "\n",
       "[2 rows x 119 columns]"
      ]
     },
     "execution_count": 8,
     "metadata": {},
     "output_type": "execute_result"
    }
   ],
   "source": [
    "df.head(2)"
   ]
  },
  {
   "cell_type": "code",
   "execution_count": 9,
   "metadata": {},
   "outputs": [],
   "source": [
    "# df['date'] = pd.to_datetime(df['date'])\n",
    "df['time'] = df['time'].apply(lambda time: time.split(':')[0]).astype(int)"
   ]
  },
  {
   "cell_type": "code",
   "execution_count": 10,
   "metadata": {},
   "outputs": [],
   "source": [
    "# df['year'] = df['date'].dt.year\n",
    "# df['month'] = df['date'].dt.month\n",
    "# df['quarter'] = df['date'].dt.quarter\n",
    "# df['day'] = df['date'].dt.day"
   ]
  },
  {
   "cell_type": "code",
   "execution_count": 11,
   "metadata": {},
   "outputs": [],
   "source": [
    "cols_to_remove = [\n",
    "    'score',\n",
    "    \"date\",\n",
    "#     'team',\n",
    "    \"stadium\",\n",
    "    \"state\",\n",
    "    \"UF\",\n",
    "#     \"match_id\"\n",
    "]\n",
    "y_col = 'score'"
   ]
  },
  {
   "cell_type": "code",
   "execution_count": 12,
   "metadata": {},
   "outputs": [],
   "source": [
    "df.drop(columns=cols_to_remove, inplace=True)"
   ]
  },
  {
   "cell_type": "code",
   "execution_count": 13,
   "metadata": {},
   "outputs": [],
   "source": [
    "team_dict = {}\n",
    "for idx, team in enumerate(df['team'].unique()):\n",
    "    team_dict[team] = idx"
   ]
  },
  {
   "cell_type": "code",
   "execution_count": null,
   "metadata": {},
   "outputs": [],
   "source": []
  },
  {
   "cell_type": "code",
   "execution_count": 14,
   "metadata": {},
   "outputs": [],
   "source": [
    "feature_cols = [col for col in df.columns if col not in cols_to_remove]"
   ]
  },
  {
   "cell_type": "code",
   "execution_count": 15,
   "metadata": {},
   "outputs": [],
   "source": [
    "df_teams = pd.DataFrame()\n",
    "for team in df['team'].unique():\n",
    "    cols_to_drop = ['is_home', 'team', 'result']\n",
    "\n",
    "    df_team = df[df['team'] == team].copy().reset_index(drop=True)\n",
    "    df_others_teams = df[\n",
    "        (df['team'] != team) &\n",
    "        (df['match_id'].isin(df_team['match_id'].tolist()))\n",
    "    ].copy().reset_index(drop=True)\n",
    "    \n",
    "    columns = [col for col in df_team if col not in cols_to_drop]\n",
    "    df_team.loc[df_team.index >= 3, columns] = (\n",
    "        df_team[columns]\n",
    "        .shift(1)\n",
    "        .rolling(3)\n",
    "        .mean()\n",
    "        .iloc[3:]\n",
    "    )\n",
    "\n",
    "    df_others_teams.loc[df_others_teams.index >= 3, columns] = (\n",
    "        df_team[columns]\n",
    "        .shift(1)\n",
    "        .rolling(3)\n",
    "        .mean()\n",
    "        .iloc[3:]\n",
    "    )\n",
    "\n",
    "    df_others_teams.drop(columns=cols_to_drop, inplace=True)\n",
    "    df_others_teams.columns = [\n",
    "        col + '_adversary' if col != 'match_id' else col for col in df_others_teams.columns\n",
    "    ]\n",
    "    \n",
    "    df_teams = df_teams.append(\n",
    "        df_team.merge(df_others_teams, on='match_id')\n",
    "    )\n",
    "df_teams['team'] = df_teams['team'].apply(lambda team: team_dict[team])"
   ]
  },
  {
   "cell_type": "code",
   "execution_count": 16,
   "metadata": {},
   "outputs": [],
   "source": [
    "result_map = {\n",
    "    'L': 0,\n",
    "    'D': 1,\n",
    "    'W': 3\n",
    "}\n",
    "df_teams['result'] = df_teams['result'].apply(lambda result: result_map[result])"
   ]
  },
  {
   "cell_type": "code",
   "execution_count": 17,
   "metadata": {},
   "outputs": [],
   "source": [
    "df_teams['result'].fillna(-1, inplace=True)\n",
    "df_teams = df_teams[df_teams['result'] != -1]\n",
    "df_teams['result'] = df_teams['result'].astype(int)"
   ]
  },
  {
   "cell_type": "code",
   "execution_count": 18,
   "metadata": {},
   "outputs": [],
   "source": [
    "X = df_teams.drop(columns=['result'])\n",
    "Y = df_teams['result']"
   ]
  },
  {
   "cell_type": "code",
   "execution_count": 19,
   "metadata": {},
   "outputs": [],
   "source": [
    "# score\n",
    "# result\n",
    "\n",
    "# df.drop(columns=['result'], inplace=True)"
   ]
  },
  {
   "cell_type": "code",
   "execution_count": 20,
   "metadata": {},
   "outputs": [],
   "source": [
    "# df.drop(columns=cols_to_remove, inplace=True)"
   ]
  },
  {
   "cell_type": "code",
   "execution_count": 21,
   "metadata": {},
   "outputs": [],
   "source": [
    "# df"
   ]
  },
  {
   "cell_type": "code",
   "execution_count": null,
   "metadata": {},
   "outputs": [],
   "source": []
  },
  {
   "cell_type": "code",
   "execution_count": 22,
   "metadata": {},
   "outputs": [],
   "source": [
    "# model = XGBClassifier()\n",
    "\n",
    "# rfe = RFE(model, 25)\n",
    "# fit = rfe.fit(X, Y)\n",
    "# print(\"Num Features: %d\" % fit.n_features_)\n",
    "# print(\"Selected Features: %s\" % fit.support_)\n",
    "# print(\"Feature Ranking: %s\" % fit.ranking_)"
   ]
  },
  {
   "cell_type": "code",
   "execution_count": 23,
   "metadata": {},
   "outputs": [],
   "source": [
    "# from sklearn.feature_selection import SelectKBest\n",
    "# from sklearn.feature_selection import f_classif\n",
    "\n",
    "# test = SelectKBest(score_func=f_classif, k=25)\n",
    "# fit = test.fit(X, Y)\n",
    "# # summarize scores\n",
    "# print(fit.scores_)\n",
    "# features = fit.transform(X)"
   ]
  },
  {
   "cell_type": "code",
   "execution_count": 24,
   "metadata": {},
   "outputs": [],
   "source": [
    "# cols = np.array(np.array(X.columns.tolist()))[list(fit.support_)]"
   ]
  },
  {
   "cell_type": "code",
   "execution_count": 25,
   "metadata": {},
   "outputs": [],
   "source": [
    "# X = X[cols]"
   ]
  },
  {
   "cell_type": "code",
   "execution_count": 26,
   "metadata": {},
   "outputs": [],
   "source": [
    "# X_train, X_test, y_train, y_test = train_test_split(X, Y, test_size=0.3, random_state=7)"
   ]
  },
  {
   "cell_type": "code",
   "execution_count": 27,
   "metadata": {},
   "outputs": [],
   "source": [
    "def mean_absolute_percentage_error(y_true, y_pred): \n",
    "    y_true = np.array(y_true)\n",
    "    y_pred = np.array(y_pred)\n",
    "    \n",
    "    difference = list(np.abs((y_true - y_pred) / y_true))\n",
    "    difference = [diff if diff != np.inf and not pd.isnull(diff) else 0 for diff in difference]\n",
    "    return np.mean(difference)\n"
   ]
  },
  {
   "cell_type": "code",
   "execution_count": 28,
   "metadata": {},
   "outputs": [],
   "source": [
    "X.sort_values(['matchweek', 'team'], inplace=True)"
   ]
  },
  {
   "cell_type": "code",
   "execution_count": null,
   "metadata": {},
   "outputs": [
    {
     "name": "stderr",
     "output_type": "stream",
     "text": [
      "/usr/local/lib/python3.8/dist-packages/sklearn/utils/validation.py:67: FutureWarning: Pass n_features_to_select=80 as keyword args. From version 0.25 passing these as positional arguments will result in an error\n",
      "  warnings.warn(\"Pass {} as keyword args. From version 0.25 \"\n"
     ]
    }
   ],
   "source": [
    "# n_cols_list = [5, 15, 25, 35, 45, 50, 63, 72, 84, 90, 100]\n",
    "# for n_cols in n_cols_list:\n",
    "n_cols = 80\n",
    "\n",
    "model = XGBClassifier()\n",
    "\n",
    "rfe = RFE(model, n_cols)\n",
    "fit = rfe.fit(X, Y)\n",
    "\n",
    "cols = np.array(np.array(X.columns.tolist()))[list(fit.support_)]\n",
    "X_new = X[cols]\n"
   ]
  },
  {
   "cell_type": "code",
   "execution_count": null,
   "metadata": {},
   "outputs": [],
   "source": [
    "X_train, X_test, y_train, y_test = train_test_split(X_new, Y, test_size=0.1, random_state=7)"
   ]
  },
  {
   "cell_type": "code",
   "execution_count": null,
   "metadata": {},
   "outputs": [],
   "source": [
    "%%time\n",
    "parameters = {\n",
    "    'eta': [0.05, 0.1, 0.3],\n",
    "    'max_depth': [5, 6, 9, 12, 20],\n",
    "    'subsample': [0.7, 0.6, 0.8, 1.0],\n",
    "    'colsample_bytree': [0.3, 0.6, 0.8, 1.0],\n",
    "    'min_child_weight': [1, 5, 8, 10],\n",
    "    'gamma': [0.5, 1, 1.5, 2, 5],\n",
    "    'n_estimators': [50, 100, 150, 500, 1000]\n",
    "}\n",
    "\n",
    "clf = GridSearchCV(model, parameters, n_jobs=1, cv=3)\n",
    "\n",
    "clf.fit(X_train, y_train)\n",
    "\n",
    "best_parameters = clf.best_params_\n",
    "\n",
    "model = XGBRegressor(**best_parameters)\n",
    "# model = XGBRegressor()"
   ]
  },
  {
   "cell_type": "code",
   "execution_count": null,
   "metadata": {},
   "outputs": [],
   "source": [
    "from sklearn.metrics import accuracy_score, f1_score, precision_score, recall_score\n",
    "\n",
    "\n",
    "model.fit(X_train, y_train)\n",
    "\n",
    "y_pred = list(model.predict(X_test))\n",
    "predictions = list([round(value) for value in y_pred])\n",
    "\n",
    "# evaluate predictions\n",
    "accuracy = mean_absolute_percentage_error(y_test, predictions)\n",
    "f1 = f1_score(y_test, predictions, average='macro')\n",
    "precision = precision_score(y_test, predictions, average='macro')\n",
    "recall = recall_score(y_test, predictions, average='macro')\n",
    "\n",
    "print(\"Accuracy with {} columns: {:.2f}%\".format(n_cols, 100 - accuracy * 100.0))\n",
    "print(\"Precision with {} columns: {:.2f}\".format(n_cols, precision))\n",
    "print(\"Recall with {} columns: {:.2f}\".format(n_cols, recall))\n",
    "print(\"F1 with {} columns: {:.2f}\".format(n_cols, f1))\n"
   ]
  },
  {
   "cell_type": "code",
   "execution_count": null,
   "metadata": {},
   "outputs": [],
   "source": [
    "y_test.value_counts()"
   ]
  },
  {
   "cell_type": "code",
   "execution_count": null,
   "metadata": {},
   "outputs": [],
   "source": []
  },
  {
   "cell_type": "code",
   "execution_count": null,
   "metadata": {},
   "outputs": [],
   "source": [
    "# param_test1 = {\n",
    "#  'max_depth':range(3,10,2),\n",
    "#  'min_child_weight':range(1,6,2)\n",
    "# }\n",
    "# gsearch1 = GridSearchCV(estimator = XGBClassifier( learning_rate =0.1, n_estimators=140, max_depth=5,\n",
    "#  min_child_weight=1, gamma=0, subsample=0.8, colsample_bytree=0.8,\n",
    "#  objective= 'binary:logistic', nthread=4, scale_pos_weight=1, seed=27), \n",
    "#  param_grid = param_test1, scoring='roc_auc',n_jobs=4,iid=False, cv=5)\n",
    "# gsearch1.fit(train[predictors],train[target])\n",
    "# gsearch1.grid_scores_, gsearch1.best_params_, gsearch1.best_score_"
   ]
  },
  {
   "cell_type": "code",
   "execution_count": null,
   "metadata": {},
   "outputs": [],
   "source": []
  },
  {
   "cell_type": "markdown",
   "metadata": {},
   "source": [
    "# =================================================="
   ]
  },
  {
   "cell_type": "code",
   "execution_count": null,
   "metadata": {},
   "outputs": [],
   "source": [
    "match_per_round = df['matchweek'].value_counts().to_frame()\n",
    "last_matchweek = match_per_round[match_per_round > 5].sort_values('matchweek', ascending=False).iloc[0].name"
   ]
  },
  {
   "cell_type": "code",
   "execution_count": null,
   "metadata": {},
   "outputs": [],
   "source": [
    "last_match_id = df['match_id'].max()"
   ]
  },
  {
   "cell_type": "code",
   "execution_count": null,
   "metadata": {},
   "outputs": [],
   "source": [
    "next_matches = pd.read_csv('data/all_matches.csv')"
   ]
  },
  {
   "cell_type": "code",
   "execution_count": null,
   "metadata": {},
   "outputs": [],
   "source": [
    "next_matches['Score'] = next_matches['Score'].fillna('')"
   ]
  },
  {
   "cell_type": "code",
   "execution_count": null,
   "metadata": {},
   "outputs": [],
   "source": [
    "next_matches = next_matches[next_matches['Score'] == '']\n",
    "next_matches['Wk'] = next_matches['Wk'].fillna('')\n",
    "next_matches = next_matches[next_matches['Wk'] != '']"
   ]
  },
  {
   "cell_type": "code",
   "execution_count": null,
   "metadata": {},
   "outputs": [],
   "source": [
    "next_matches = next_matches[next_matches['Wk'] > last_matchweek]"
   ]
  },
  {
   "cell_type": "code",
   "execution_count": null,
   "metadata": {},
   "outputs": [],
   "source": [
    "def make_dataset(interested_team, other_team, cols):\n",
    "    cols_to_use = [col for col in interested_team.columns if 'adversary' not in col]\n",
    "    \n",
    "    interested_team = interested_team[cols_to_use]\n",
    "    other_team = other_team[cols_to_use]\n",
    "    \n",
    "    other_team.columns = [col + '_adversary' if col not in ['result', 'match_id'] else col for col in interested_team.columns ]\n",
    "    \n",
    "    df = interested_team.merge(other_team, on='match_id')\n",
    "\n",
    "    return df[cols]\n",
    "    "
   ]
  },
  {
   "cell_type": "code",
   "execution_count": null,
   "metadata": {},
   "outputs": [],
   "source": [
    "for next_match in next_matches.iterrows():\n",
    "    next_match = next_match[1].to_frame().transpose()\n",
    "    team1, team2 = next_match[['Home', 'Away']].iloc[0]\n",
    "    date = pd.to_datetime(next_match['Date'].iloc[0])\n",
    "    time = next_match['Time'].iloc[0].split(':')[0]\n",
    "    matchweek = int(next_match['Wk'].iloc[0])\n",
    "    \n",
    "    if matchweek > last_matchweek + 1:\n",
    "        break\n",
    "        \n",
    "    cols = X_new.columns.tolist()\n",
    "    mean_features_team1 = df_teams[df_teams['team'] == team_dict[team1]].copy()  # [cols]\n",
    "    mean_features_team2 = df_teams[df_teams['team'] == team_dict[team2]].copy()  # [cols]\n",
    "    \n",
    "    mean_features_team1['match_id'] = last_match_id + 1\n",
    "    mean_features_team2['match_id'] = last_match_id + 1\n",
    "    \n",
    "    for col in cols:\n",
    "        mean_features_team1[col] = mean_features_team1[col].shift(1).rolling(window=3).mean().copy()\n",
    "        mean_features_team2[col] = mean_features_team2[col].shift(1).rolling(window=3).mean().copy()\n",
    "\n",
    "    mean_features_team1 = mean_features_team1.iloc[-1:].copy()\n",
    "    mean_features_team2 = mean_features_team2.iloc[-1:].copy()\n",
    "    \n",
    "    dataset_team1 = make_dataset(mean_features_team1, mean_features_team2, cols).round(2)\n",
    "    dataset_team2 = make_dataset(mean_features_team2, mean_features_team1, cols).round(2)\n",
    "    \n",
    "    game_prediction = dataset_team1.append(dataset_team2)\n",
    "    prediction = [round(prediction) for prediction in list(model.predict(game_prediction))]\n",
    "    print(f\"Rodada {matchweek}:\\n {team1}: {prediction[0]} \\n  {team2}: {prediction[1]}\\n\\n\")\n",
    "    last_match_id += 1"
   ]
  },
  {
   "cell_type": "code",
   "execution_count": null,
   "metadata": {},
   "outputs": [],
   "source": []
  },
  {
   "cell_type": "code",
   "execution_count": null,
   "metadata": {},
   "outputs": [],
   "source": []
  },
  {
   "cell_type": "code",
   "execution_count": null,
   "metadata": {},
   "outputs": [],
   "source": []
  }
 ],
 "metadata": {
  "kernelspec": {
   "display_name": "Python 3",
   "language": "python",
   "name": "python3"
  },
  "language_info": {
   "codemirror_mode": {
    "name": "ipython",
    "version": 3
   },
   "file_extension": ".py",
   "mimetype": "text/x-python",
   "name": "python",
   "nbconvert_exporter": "python",
   "pygments_lexer": "ipython3",
   "version": "3.8.0"
  }
 },
 "nbformat": 4,
 "nbformat_minor": 4
}
