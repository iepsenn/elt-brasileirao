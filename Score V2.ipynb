{
 "cells": [
  {
   "cell_type": "code",
   "execution_count": 1,
   "metadata": {},
   "outputs": [],
   "source": [
    "import pandas as pd\n",
    "import numpy as np\n",
    "from sklearn.model_selection import GridSearchCV\n",
    "\n",
    "from sklearn.feature_selection import RFE\n",
    "from xgboost import XGBRegressor\n",
    "from sklearn.model_selection import train_test_split\n",
    "from sklearn.metrics import accuracy_score\n",
    "from sklearn.metrics import mean_absolute_error"
   ]
  },
  {
   "cell_type": "code",
   "execution_count": 2,
   "metadata": {},
   "outputs": [],
   "source": [
    "# model=Sequential()\n",
    "# model.add(BatchNormalization())\n",
    "# model.add(Dropout(0.20))\n",
    "# model.add(Dense(2048,activation='relu',input_dim=train.shape[1],kernel_initializer='uniform'))\n",
    "# model.add(BatchNormalization())\n",
    "# model.add(Dense(2048,activation='tanh'))\n",
    "# model.add(Dropout(0.2))\n",
    "# model.add(Dense(1048,activation='tanh'))\n",
    "# model.add(BatchNormalization())\n",
    "# model.add(Dropout(0.25))\n",
    "# #model.add(Dense(1024,kernel_initializer='uniform',activation='tanh'))\n",
    "# #model.add(Dropout(0.5))\n",
    "# model.add(Dense(target.shape[1],activation='sigmoid'))\n",
    "\n",
    "\n",
    "# sgd=SGD(lr=0.01,momentum=0.9)\n",
    "# model.compile(optimizer=sgd,loss='binary_crossentropy',metrics=['accuracy'])\n",
    "# model.fit(train.values,target.values,batch_size=60,epochs=100,verbose=2)\n",
    "\n"
   ]
  },
  {
   "cell_type": "code",
   "execution_count": 3,
   "metadata": {},
   "outputs": [],
   "source": [
    "df = pd.read_csv('data/serieA_matches.csv')\n",
    "df_all_matches = pd.read_csv('data/2020_all_matches.csv')"
   ]
  },
  {
   "cell_type": "code",
   "execution_count": 4,
   "metadata": {},
   "outputs": [
    {
     "name": "stdout",
     "output_type": "stream",
     "text": [
      "CPU times: user 2.32 ms, sys: 594 µs, total: 2.92 ms\n",
      "Wall time: 2.6 ms\n"
     ]
    }
   ],
   "source": [
    "%%time\n",
    "\n",
    "home_teams = df_all_matches[['Home', 'Venue']].drop_duplicates().values\n",
    "team_stadium = {}\n",
    "for data in home_teams:\n",
    "     team_stadium[data[0]] = data[1]"
   ]
  },
  {
   "cell_type": "code",
   "execution_count": 5,
   "metadata": {},
   "outputs": [
    {
     "name": "stdout",
     "output_type": "stream",
     "text": [
      "CPU times: user 2.22 ms, sys: 578 µs, total: 2.8 ms\n",
      "Wall time: 2.21 ms\n"
     ]
    }
   ],
   "source": [
    "%%time\n",
    "\n",
    "team_dict = {}\n",
    "for idx, team in enumerate(df['team'].unique()):\n",
    "    team_dict[team] = idx"
   ]
  },
  {
   "cell_type": "code",
   "execution_count": 6,
   "metadata": {},
   "outputs": [],
   "source": [
    "df['is_home'] = team_stadium[df['team'].iloc[0]]\n",
    "df['is_home'] = df['stadium'] == df['is_home']\n",
    "df['is_home'] = df['is_home'].astype(int)"
   ]
  },
  {
   "cell_type": "code",
   "execution_count": 7,
   "metadata": {},
   "outputs": [
    {
     "data": {
      "text/plain": [
       "team       object\n",
       "result     object\n",
       "stadium    object\n",
       "state      object\n",
       "UF         object\n",
       "date       object\n",
       "time       object\n",
       "dtype: object"
      ]
     },
     "execution_count": 7,
     "metadata": {},
     "output_type": "execute_result"
    }
   ],
   "source": [
    "cols_types = df.dtypes\n",
    "cols_types[cols_types == object]"
   ]
  },
  {
   "cell_type": "code",
   "execution_count": 8,
   "metadata": {},
   "outputs": [],
   "source": [
    "#"
   ]
  },
  {
   "cell_type": "code",
   "execution_count": 9,
   "metadata": {},
   "outputs": [
    {
     "data": {
      "text/html": [
       "<div>\n",
       "<style scoped>\n",
       "    .dataframe tbody tr th:only-of-type {\n",
       "        vertical-align: middle;\n",
       "    }\n",
       "\n",
       "    .dataframe tbody tr th {\n",
       "        vertical-align: top;\n",
       "    }\n",
       "\n",
       "    .dataframe thead th {\n",
       "        text-align: right;\n",
       "    }\n",
       "</style>\n",
       "<table border=\"1\" class=\"dataframe\">\n",
       "  <thead>\n",
       "    <tr style=\"text-align: right;\">\n",
       "      <th></th>\n",
       "      <th>fouls</th>\n",
       "      <th>corners</th>\n",
       "      <th>crosses</th>\n",
       "      <th>touches</th>\n",
       "      <th>tackles</th>\n",
       "      <th>interceptions</th>\n",
       "      <th>aerials_won</th>\n",
       "      <th>clearances</th>\n",
       "      <th>offsides</th>\n",
       "      <th>goal_kicks</th>\n",
       "      <th>...</th>\n",
       "      <th>fouls_drawn_mean_attack</th>\n",
       "      <th>offsides_mean_attack</th>\n",
       "      <th>crosses_mean_attack</th>\n",
       "      <th>tackles_on_mean_attack</th>\n",
       "      <th>interceptions_mean_attack</th>\n",
       "      <th>own_goals_mean_attack</th>\n",
       "      <th>penalty_kicks_won_mean_attack</th>\n",
       "      <th>penalty_kicks_conceded_mean_attack</th>\n",
       "      <th>year</th>\n",
       "      <th>is_home</th>\n",
       "    </tr>\n",
       "  </thead>\n",
       "  <tbody>\n",
       "    <tr>\n",
       "      <th>0</th>\n",
       "      <td>23.0</td>\n",
       "      <td>3.0</td>\n",
       "      <td>11.0</td>\n",
       "      <td>436.0</td>\n",
       "      <td>12.0</td>\n",
       "      <td>5.0</td>\n",
       "      <td>7.0</td>\n",
       "      <td>18.0</td>\n",
       "      <td>2.0</td>\n",
       "      <td>4.0</td>\n",
       "      <td>...</td>\n",
       "      <td>0.0</td>\n",
       "      <td>2.0</td>\n",
       "      <td>1.0</td>\n",
       "      <td>0.0</td>\n",
       "      <td>1.0</td>\n",
       "      <td>0.0</td>\n",
       "      <td>NaN</td>\n",
       "      <td>NaN</td>\n",
       "      <td>2019</td>\n",
       "      <td>0</td>\n",
       "    </tr>\n",
       "    <tr>\n",
       "      <th>1</th>\n",
       "      <td>23.0</td>\n",
       "      <td>3.0</td>\n",
       "      <td>11.0</td>\n",
       "      <td>436.0</td>\n",
       "      <td>12.0</td>\n",
       "      <td>5.0</td>\n",
       "      <td>7.0</td>\n",
       "      <td>18.0</td>\n",
       "      <td>2.0</td>\n",
       "      <td>4.0</td>\n",
       "      <td>...</td>\n",
       "      <td>0.0</td>\n",
       "      <td>2.0</td>\n",
       "      <td>1.0</td>\n",
       "      <td>0.0</td>\n",
       "      <td>1.0</td>\n",
       "      <td>0.0</td>\n",
       "      <td>NaN</td>\n",
       "      <td>NaN</td>\n",
       "      <td>2019</td>\n",
       "      <td>0</td>\n",
       "    </tr>\n",
       "  </tbody>\n",
       "</table>\n",
       "<p>2 rows × 120 columns</p>\n",
       "</div>"
      ],
      "text/plain": [
       "   fouls  corners  crosses  touches  tackles  interceptions  aerials_won  \\\n",
       "0   23.0      3.0     11.0    436.0     12.0            5.0          7.0   \n",
       "1   23.0      3.0     11.0    436.0     12.0            5.0          7.0   \n",
       "\n",
       "   clearances  offsides  goal_kicks  ...  fouls_drawn_mean_attack  \\\n",
       "0        18.0       2.0         4.0  ...                      0.0   \n",
       "1        18.0       2.0         4.0  ...                      0.0   \n",
       "\n",
       "   offsides_mean_attack  crosses_mean_attack tackles_on_mean_attack  \\\n",
       "0                   2.0                  1.0                    0.0   \n",
       "1                   2.0                  1.0                    0.0   \n",
       "\n",
       "   interceptions_mean_attack own_goals_mean_attack  \\\n",
       "0                        1.0                   0.0   \n",
       "1                        1.0                   0.0   \n",
       "\n",
       "  penalty_kicks_won_mean_attack penalty_kicks_conceded_mean_attack  year  \\\n",
       "0                           NaN                                NaN  2019   \n",
       "1                           NaN                                NaN  2019   \n",
       "\n",
       "   is_home  \n",
       "0        0  \n",
       "1        0  \n",
       "\n",
       "[2 rows x 120 columns]"
      ]
     },
     "execution_count": 9,
     "metadata": {},
     "output_type": "execute_result"
    }
   ],
   "source": [
    "df.head(2)"
   ]
  },
  {
   "cell_type": "code",
   "execution_count": 10,
   "metadata": {},
   "outputs": [],
   "source": [
    "# df['date'] = pd.to_datetime(df['date'])\n",
    "df['time'] = df['time'].apply(lambda time: time.split(':')[0]).astype(int)"
   ]
  },
  {
   "cell_type": "code",
   "execution_count": 11,
   "metadata": {},
   "outputs": [],
   "source": [
    "# df['year'] = df['date'].dt.year\n",
    "# df['month'] = df['date'].dt.month\n",
    "# df['quarter'] = df['date'].dt.quarter\n",
    "# df['day'] = df['date'].dt.day"
   ]
  },
  {
   "cell_type": "code",
   "execution_count": 12,
   "metadata": {},
   "outputs": [],
   "source": [
    "cols_to_remove = [\n",
    "    'result',\n",
    "    \"date\",\n",
    "#     'team',\n",
    "    \"stadium\",\n",
    "    \"state\",\n",
    "    \"UF\",\n",
    "#     \"match_id\"\n",
    "]\n",
    "y_col = 'score'"
   ]
  },
  {
   "cell_type": "code",
   "execution_count": 13,
   "metadata": {},
   "outputs": [],
   "source": [
    "df.drop(columns=cols_to_remove, inplace=True)"
   ]
  },
  {
   "cell_type": "code",
   "execution_count": null,
   "metadata": {},
   "outputs": [],
   "source": []
  },
  {
   "cell_type": "code",
   "execution_count": null,
   "metadata": {},
   "outputs": [],
   "source": []
  },
  {
   "cell_type": "code",
   "execution_count": 14,
   "metadata": {},
   "outputs": [],
   "source": [
    "feature_cols = [col for col in df.columns if col not in cols_to_remove]"
   ]
  },
  {
   "cell_type": "code",
   "execution_count": 15,
   "metadata": {},
   "outputs": [],
   "source": [
    "\n",
    "df_home_teams = pd.DataFrame()\n",
    "df_adversary_teams = pd.DataFrame()\n",
    "\n",
    "df_teams = pd.DataFrame()\n",
    "for team in df['team'].unique():\n",
    "    cols_to_drop = ['is_home', 'team', 'score']\n",
    "    unique_cols = ['match_id', 'matchweek', 'time', 'year']\n",
    "    \n",
    "    df_team = df[df['team'] == team].copy().reset_index(drop=True)\n",
    "    df_others_teams = df[\n",
    "        (df['team'] != team) &\n",
    "        (df['match_id'].isin(df_team['match_id'].tolist()))\n",
    "    ].copy().reset_index(drop=True)\n",
    "    \n",
    "    columns = [col for col in df_team if col not in cols_to_drop]\n",
    "    df_team.loc[df_team.index >= 3, columns] = (\n",
    "        df_team[columns]\n",
    "        .shift(1)\n",
    "        .rolling(3)\n",
    "        .mean()\n",
    "        .iloc[3:]\n",
    "    )\n",
    "\n",
    "    df_others_teams.loc[df_others_teams.index >= 3, columns] = (\n",
    "        df_team[columns]\n",
    "        .shift(1)\n",
    "        .rolling(3)\n",
    "        .mean()\n",
    "        .iloc[3:]\n",
    "    )\n",
    "\n",
    "    df_others_teams.drop(columns=cols_to_drop, inplace=True)\n",
    "    df_others_teams.columns = [\n",
    "        col + '_adversary' if col not in unique_cols else col for col in df_others_teams.columns\n",
    "    ]\n",
    "    \n",
    "    for col in [column for column in df_others_teams.columns if column.endswith('adversary')]:\n",
    "        df_team[col] = df_others_teams[col]\n",
    "    \n",
    "#     df_teams = df_teams.append(\n",
    "#         df_team.merge(df_others_teams, on='match_id')\n",
    "#     )\n"
   ]
  },
  {
   "cell_type": "code",
   "execution_count": 16,
   "metadata": {},
   "outputs": [],
   "source": [
    "# df_teams = df_home_teams.append(\n",
    "#     df_adversary_teams.merge(df_others_teams, on='match_id')\n",
    "# )\n",
    "\n",
    "df_teams = df_team"
   ]
  },
  {
   "cell_type": "code",
   "execution_count": 17,
   "metadata": {},
   "outputs": [],
   "source": [
    "df_teams = df_teams[~df_teams['team'].isna()].copy()"
   ]
  },
  {
   "cell_type": "code",
   "execution_count": 18,
   "metadata": {},
   "outputs": [],
   "source": [
    "\n",
    "df_teams['team'] = df_teams['team'].apply(lambda team: team_dict[team])"
   ]
  },
  {
   "cell_type": "code",
   "execution_count": null,
   "metadata": {},
   "outputs": [],
   "source": []
  },
  {
   "cell_type": "code",
   "execution_count": 19,
   "metadata": {},
   "outputs": [],
   "source": [
    "df_teams['score'].fillna(-1, inplace=True)\n",
    "df_teams = df_teams[df_teams['score'] != -1]\n",
    "df_teams['score'] = df_teams['score'].astype(int)"
   ]
  },
  {
   "cell_type": "code",
   "execution_count": 20,
   "metadata": {},
   "outputs": [],
   "source": [
    "X = df_teams.drop(columns=['score'])\n",
    "Y = df_teams['score']"
   ]
  },
  {
   "cell_type": "code",
   "execution_count": 21,
   "metadata": {},
   "outputs": [],
   "source": [
    "# score\n",
    "# result\n",
    "\n",
    "# df.drop(columns=['result'], inplace=True)"
   ]
  },
  {
   "cell_type": "code",
   "execution_count": 22,
   "metadata": {},
   "outputs": [],
   "source": [
    "# df.drop(columns=cols_to_remove, inplace=True)"
   ]
  },
  {
   "cell_type": "code",
   "execution_count": 23,
   "metadata": {},
   "outputs": [],
   "source": [
    "# df"
   ]
  },
  {
   "cell_type": "code",
   "execution_count": null,
   "metadata": {},
   "outputs": [],
   "source": []
  },
  {
   "cell_type": "code",
   "execution_count": 24,
   "metadata": {},
   "outputs": [],
   "source": [
    "# model = XGBClassifier()\n",
    "\n",
    "# rfe = RFE(model, 25)\n",
    "# fit = rfe.fit(X, Y)\n",
    "# print(\"Num Features: %d\" % fit.n_features_)\n",
    "# print(\"Selected Features: %s\" % fit.support_)\n",
    "# print(\"Feature Ranking: %s\" % fit.ranking_)"
   ]
  },
  {
   "cell_type": "code",
   "execution_count": 25,
   "metadata": {},
   "outputs": [],
   "source": [
    "# from sklearn.feature_selection import SelectKBest\n",
    "# from sklearn.feature_selection import f_classif\n",
    "\n",
    "# test = SelectKBest(score_func=f_classif, k=25)\n",
    "# fit = test.fit(X, Y)\n",
    "# # summarize scores\n",
    "# print(fit.scores_)\n",
    "# features = fit.transform(X)"
   ]
  },
  {
   "cell_type": "code",
   "execution_count": 26,
   "metadata": {},
   "outputs": [],
   "source": [
    "# cols = np.array(np.array(X.columns.tolist()))[list(fit.support_)]"
   ]
  },
  {
   "cell_type": "code",
   "execution_count": 27,
   "metadata": {},
   "outputs": [],
   "source": [
    "# X = X[cols]"
   ]
  },
  {
   "cell_type": "code",
   "execution_count": 28,
   "metadata": {},
   "outputs": [],
   "source": [
    "# X_train, X_test, y_train, y_test = train_test_split(X, Y, test_size=0.3, random_state=7)"
   ]
  },
  {
   "cell_type": "code",
   "execution_count": 29,
   "metadata": {},
   "outputs": [],
   "source": [
    "def mean_absolute_percentage_error(y_true, y_pred): \n",
    "    y_true = np.array(y_true)\n",
    "    y_pred = np.array(y_pred)\n",
    "    \n",
    "    difference = list(np.abs((y_true - y_pred) / y_true))\n",
    "    difference = [diff if diff != np.inf and not pd.isnull(diff) else 0 for diff in difference]\n",
    "    return np.mean(difference)\n"
   ]
  },
  {
   "cell_type": "code",
   "execution_count": 30,
   "metadata": {},
   "outputs": [],
   "source": [
    "def bias_percentage(y_true, y_pred): \n",
    "    y_true = np.array(y_true)\n",
    "    y_pred = np.array(y_pred)\n",
    "    \n",
    "    return  np.sum(y_pred) / np.sum(y_true)"
   ]
  },
  {
   "cell_type": "code",
   "execution_count": 31,
   "metadata": {},
   "outputs": [],
   "source": [
    "X.sort_values(['matchweek', 'team'], inplace=True)"
   ]
  },
  {
   "cell_type": "code",
   "execution_count": 32,
   "metadata": {},
   "outputs": [],
   "source": [
    "# # n_cols_list = [5, 15, 25, 35, 45, 50, 63, 72, 84, 90, 100]\n",
    "# # for n_cols in n_cols_list:\n",
    "n_cols = 50\n",
    "\n",
    "# model = XGBRegressor()\n",
    "\n",
    "# rfe = RFE(model, n_cols)\n",
    "# fit = rfe.fit(X, Y)\n",
    "\n",
    "# cols = np.array(np.array(X.columns.tolist()))[list(fit.support_)]\n",
    "# X_new = X[cols]\n"
   ]
  },
  {
   "cell_type": "code",
   "execution_count": 33,
   "metadata": {},
   "outputs": [],
   "source": [
    "X_new = X"
   ]
  },
  {
   "cell_type": "code",
   "execution_count": 34,
   "metadata": {},
   "outputs": [],
   "source": [
    "X_train, X_test, y_train, y_test = train_test_split(X_new, Y, test_size=0.1, random_state=7)"
   ]
  },
  {
   "cell_type": "code",
   "execution_count": 35,
   "metadata": {},
   "outputs": [],
   "source": [
    "# %%time\n",
    "# parameters = {\n",
    "#     'eta': [0.05, 0.1, 0.3],\n",
    "#     'max_depth': [5, 6, 9, 12, 20],\n",
    "#     'subsample': [0.7, 0.6, 0.8, 1.0],\n",
    "#     'colsample_bytree': [0.3, 0.6, 0.8, 1.0],\n",
    "#     'min_child_weight': [1, 5, 8, 10],\n",
    "#     'gamma': [0.5, 1, 1.5, 2, 5],\n",
    "#     'n_estimators': [50, 100, 150, 500, 1000]\n",
    "# }\n",
    "\n",
    "# clf = GridSearchCV(model, parameters, n_jobs=1, cv=3)\n",
    "\n",
    "# clf.fit(X_train, y_train)\n",
    "\n",
    "# best_parameters = clf.best_params_\n",
    "\n",
    "# model = XGBRegressor(**best_parameters)\n",
    "model = XGBRegressor()"
   ]
  },
  {
   "cell_type": "code",
   "execution_count": 36,
   "metadata": {},
   "outputs": [
    {
     "name": "stdout",
     "output_type": "stream",
     "text": [
      "MAPE with 50 columns: 8.70%\n",
      "MAE with 50 columns: 0.09\n",
      "BIAS% with 50 columns: 100.00%\n"
     ]
    },
    {
     "name": "stderr",
     "output_type": "stream",
     "text": [
      "<ipython-input-29-70d46a524b4a>:5: RuntimeWarning: invalid value encountered in true_divide\n",
      "  difference = list(np.abs((y_true - y_pred) / y_true))\n"
     ]
    }
   ],
   "source": [
    "from sklearn.metrics import mean_absolute_error\n",
    "\n",
    "\n",
    "model.fit(X_train, y_train)\n",
    "\n",
    "y_pred = list(model.predict(X_test))\n",
    "predictions = list([round(value) for value in y_pred])\n",
    "\n",
    "# evaluate predictions\n",
    "mape = mean_absolute_percentage_error(y_test, predictions)\n",
    "mae = mean_absolute_error(y_test, predictions)\n",
    "bias_percent = bias_percentage(y_test, predictions)\n",
    "\n",
    "print(\"MAPE with {} columns: {:.2f}%\".format(n_cols, mape * 100.0))\n",
    "print(\"MAE with {} columns: {:.2f}\".format(n_cols, mae))\n",
    "print(\"BIAS% with {} columns: {:.2f}%\".format(n_cols, bias_percent * 100))\n"
   ]
  },
  {
   "cell_type": "code",
   "execution_count": null,
   "metadata": {},
   "outputs": [],
   "source": []
  },
  {
   "cell_type": "code",
   "execution_count": null,
   "metadata": {},
   "outputs": [],
   "source": []
  },
  {
   "cell_type": "code",
   "execution_count": 37,
   "metadata": {},
   "outputs": [],
   "source": [
    "# param_test1 = {\n",
    "#  'max_depth':range(3,10,2),\n",
    "#  'min_child_weight':range(1,6,2)\n",
    "# }\n",
    "# gsearch1 = GridSearchCV(estimator = XGBClassifier( learning_rate =0.1, n_estimators=140, max_depth=5,\n",
    "#  min_child_weight=1, gamma=0, subsample=0.8, colsample_bytree=0.8,\n",
    "#  objective= 'binary:logistic', nthread=4, scale_pos_weight=1, seed=27), \n",
    "#  param_grid = param_test1, scoring='roc_auc',n_jobs=4,iid=False, cv=5)\n",
    "# gsearch1.fit(train[predictors],train[target])\n",
    "# gsearch1.grid_scores_, gsearch1.best_params_, gsearch1.best_score_"
   ]
  },
  {
   "cell_type": "markdown",
   "metadata": {},
   "source": [
    "# =================================================="
   ]
  },
  {
   "cell_type": "code",
   "execution_count": 38,
   "metadata": {},
   "outputs": [],
   "source": [
    "match_per_round = df['matchweek'].value_counts().to_frame()\n",
    "last_matchweek = match_per_round[match_per_round > 5].sort_values('matchweek', ascending=False).iloc[0].name"
   ]
  },
  {
   "cell_type": "code",
   "execution_count": 39,
   "metadata": {},
   "outputs": [],
   "source": [
    "next_matches = pd.read_csv('data/2020_all_matches.csv')"
   ]
  },
  {
   "cell_type": "code",
   "execution_count": 40,
   "metadata": {},
   "outputs": [],
   "source": [
    "next_matches['Score'] = next_matches['Score'].fillna('')"
   ]
  },
  {
   "cell_type": "code",
   "execution_count": 41,
   "metadata": {},
   "outputs": [],
   "source": [
    "next_matches = next_matches[next_matches['Score'] == '']\n",
    "next_matches['Wk'] = next_matches['Wk'].fillna('')\n",
    "next_matches = next_matches[next_matches['Wk'] != '']"
   ]
  },
  {
   "cell_type": "code",
   "execution_count": 42,
   "metadata": {},
   "outputs": [],
   "source": [
    "next_matches = next_matches[next_matches['Wk'] > last_matchweek]"
   ]
  },
  {
   "cell_type": "code",
   "execution_count": 43,
   "metadata": {},
   "outputs": [],
   "source": [
    "last_match_id = df['match_id'].max()"
   ]
  },
  {
   "cell_type": "code",
   "execution_count": 44,
   "metadata": {},
   "outputs": [],
   "source": [
    "def make_dataset(interested_team, other_team, cols):\n",
    "    cols_to_use = [col for col in interested_team.columns if 'adversary' not in col]\n",
    "    \n",
    "    interested_team = interested_team[cols_to_use]\n",
    "    other_team = other_team[cols_to_use]\n",
    "    \n",
    "    other_team.columns = [col + '_adversary' if col not in ['result', 'match_id'] else col for col in interested_team.columns ]\n",
    "    \n",
    "    df = interested_team.merge(other_team, on='match_id')\n",
    "\n",
    "    return df[cols]\n",
    "    "
   ]
  },
  {
   "cell_type": "code",
   "execution_count": 45,
   "metadata": {},
   "outputs": [
    {
     "name": "stdout",
     "output_type": "stream",
     "text": [
      "Rodada 6: Atlético Mineiro 3 x 0 Atl Paranaense!\n",
      "Rodada 6: Grêmio 1 x 1 Goiás!\n",
      "Rodada 15: Vasco da Gama 1 x 1 Flamengo!\n",
      "Rodada 15: Coritiba 1 x 1 Fortaleza!\n",
      "Rodada 15: Palmeiras 0 x 0 São Paulo!\n",
      "Rodada 15: Atlético Mineiro 1 x 0 Goiás!\n",
      "Rodada 15: Fluminense 0 x 1 Bahia!\n",
      "Rodada 15: Santos 0 x 1 Grêmio!\n",
      "Rodada 15: Sport Recife 0 x 1 Botafogo (RJ)!\n",
      "Rodada 15: Atl Goianiense 0 x 0 Bragantino!\n",
      "Rodada 15: Ceará 0 x 1 Corinthians!\n",
      "Rodada 15: Internacional 0 x 1 Atl Paranaense!\n",
      "Rodada 11: Flamengo 1 x 1 Goiás!\n",
      "Rodada 16: Flamengo 1 x 1 Bragantino!\n",
      "Rodada 16: Atlético Mineiro 1 x 0 Fluminense!\n",
      "Rodada 16: Palmeiras 0 x 1 Coritiba!\n",
      "Rodada 16: Sport Recife 0 x 0 Internacional!\n",
      "Rodada 16: Atl Paranaense 1 x 3 Corinthians!\n",
      "Rodada 16: Goiás 1 x 1 Bahia!\n",
      "Rodada 16: Grêmio 1 x 1 Botafogo (RJ)!\n",
      "Rodada 16: Santos 0 x 0 Atl Goianiense!\n",
      "Rodada 16: Ceará 0 x 0 São Paulo!\n",
      "Rodada 16: Vasco da Gama 1 x 1 Fortaleza!\n",
      "Rodada 17: Bragantino 0 x 0 Sport Recife!\n",
      "Rodada 17: São Paulo 0 x 1 Grêmio!\n",
      "Rodada 17: Fortaleza 1 x 0 Palmeiras!\n",
      "Rodada 17: Internacional 0 x 1 Vasco da Gama!\n",
      "Rodada 17: Fluminense 0 x 0 Ceará!\n",
      "Rodada 17: Botafogo (RJ) 1 x 1 Goiás!\n",
      "Rodada 17: Atl Goianiense 0 x 2 Atl Paranaense!\n",
      "Rodada 17: Corinthians 1 x 1 Flamengo!\n",
      "Rodada 17: Bahia 0 x 1 Atlético Mineiro!\n",
      "Rodada 17: Coritiba 1 x 0 Santos!\n",
      "Rodada 18: Internacional 1 x 1 Flamengo!\n",
      "Rodada 18: Bragantino 0 x 1 Goiás!\n",
      "Rodada 18: Fluminense 0 x 0 Santos!\n",
      "Rodada 18: Ceará 0 x 1 Coritiba!\n",
      "Rodada 18: São Paulo 0 x 1 Botafogo (RJ)!\n",
      "Rodada 18: Vasco da Gama 1 x 1 Corinthians!\n",
      "Rodada 18: Bahia 1 x 1 Fortaleza!\n",
      "Rodada 18: Atl Paranaense 1 x 3 Grêmio!\n",
      "Rodada 18: Atlético Mineiro 1 x 0 Sport Recife!\n",
      "Rodada 18: Atl Goianiense 0 x 0 Palmeiras!\n",
      "Rodada 19: Coritiba 2 x 0 Atl Goianiense!\n",
      "Rodada 19: Grêmio 1 x 0 Bragantino!\n",
      "Rodada 19: Botafogo (RJ) 1 x 0 Ceará!\n",
      "Rodada 19: Corinthians 1 x 0 Internacional!\n",
      "Rodada 19: Sport Recife 0 x 1 Atl Paranaense!\n",
      "Rodada 19: Palmeiras 0 x 1 Atlético Mineiro!\n",
      "Rodada 19: Flamengo 1 x 1 São Paulo!\n",
      "Rodada 19: Santos 0 x 1 Bahia!\n",
      "Rodada 19: Fortaleza 1 x 0 Fluminense!\n",
      "Rodada 19: Goiás 1 x 1 Vasco da Gama!\n",
      "Rodada 20: Vasco da Gama 1 x 0 Palmeiras!\n",
      "Rodada 20: Atlético Mineiro 1 x 0 Flamengo!\n",
      "Rodada 20: Internacional 0 x 1 Coritiba!\n",
      "Rodada 20: Ceará 0 x 0 Sport Recife!\n",
      "Rodada 20: Bragantino 0 x 0 Santos!\n",
      "Rodada 20: São Paulo 0 x 1 Goiás!\n",
      "Rodada 20: Atl Goianiense 0 x 2 Corinthians!\n",
      "Rodada 20: Fluminense 0 x 1 Grêmio!\n",
      "Rodada 20: Bahia 1 x 1 Botafogo (RJ)!\n",
      "Rodada 20: Atl Paranaense 1 x 1 Fortaleza!\n",
      "Rodada 21: Grêmio 1 x 0 Ceará!\n",
      "Rodada 21: Fortaleza 1 x 0 São Paulo!\n",
      "Rodada 21: Palmeiras 0 x 0 Fluminense!\n",
      "Rodada 21: Corinthians 0 x 1 Atlético Mineiro!\n",
      "Rodada 21: Sport Recife 0 x 1 Vasco da Gama!\n",
      "Rodada 21: Goiás 3 x 1 Atl Paranaense!\n",
      "Rodada 21: Botafogo (RJ) 1 x 0 Bragantino!\n",
      "Rodada 21: Coritiba 1 x 1 Bahia!\n",
      "Rodada 21: Flamengo 2 x 1 Atl Goianiense!\n",
      "Rodada 21: Santos 0 x 0 Internacional!\n",
      "Rodada 22: Flamengo 1 x 1 Coritiba!\n",
      "Rodada 22: São Paulo 0 x 1 Vasco da Gama!\n",
      "Rodada 22: Bragantino 0 x 1 Bahia!\n",
      "Rodada 22: Corinthians 1 x 1 Grêmio!\n",
      "Rodada 22: Sport Recife 0 x 0 Atl Goianiense!\n",
      "Rodada 22: Ceará 0 x 1 Atlético Mineiro!\n",
      "Rodada 22: Goiás 1 x 0 Palmeiras!\n",
      "Rodada 22: Atl Paranaense 1 x 0 Santos!\n",
      "Rodada 22: Internacional 0 x 0 Fluminense!\n",
      "Rodada 22: Botafogo (RJ) 1 x 1 Fortaleza!\n",
      "Rodada 23: Bahia 1 x 0 São Paulo!\n",
      "Rodada 23: Atl Goianiense 0 x 0 Internacional!\n",
      "Rodada 23: Coritiba 1 x 1 Corinthians!\n",
      "Rodada 23: Atlético Mineiro 1 x 0 Botafogo (RJ)!\n",
      "Rodada 23: Fluminense 0 x 0 Bragantino!\n",
      "Rodada 23: Grêmio 1 x 1 Flamengo!\n",
      "Rodada 23: Fortaleza 1 x 1 Goiás!\n",
      "Rodada 23: Palmeiras 0 x 1 Atl Paranaense!\n",
      "Rodada 23: Vasco da Gama 1 x 0 Ceará!\n",
      "Rodada 23: Santos 0 x 0 Sport Recife!\n",
      "Rodada 24: Fluminense 0 x 1 Atl Paranaense!\n",
      "Rodada 24: Santos 0 x 0 Palmeiras!\n",
      "Rodada 24: Fortaleza 1 x 1 Corinthians!\n",
      "Rodada 24: Coritiba 1 x 0 Bragantino!\n",
      "Rodada 24: Atl Goianiense 0 x 2 Goiás!\n",
      "Rodada 24: Grêmio 1 x 1 Vasco da Gama!\n",
      "Rodada 24: São Paulo 0 x 0 Sport Recife!\n",
      "Rodada 24: Atlético Mineiro 1 x 0 Internacional!\n",
      "Rodada 24: Botafogo (RJ) 1 x 1 Flamengo!\n",
      "Rodada 24: Bahia 1 x 0 Ceará!\n",
      "Rodada 25: Flamengo 1 x 1 Santos!\n",
      "Rodada 25: Internacional 0 x 1 Botafogo (RJ)!\n",
      "Rodada 25: Goiás 1 x 1 Grêmio!\n",
      "Rodada 25: Palmeiras 0 x 1 Bahia!\n",
      "Rodada 25: Sport Recife 0 x 1 Coritiba!\n",
      "Rodada 25: Bragantino 0 x 1 Fortaleza!\n",
      "Rodada 25: Corinthians 1 x 0 São Paulo!\n",
      "Rodada 25: Atl Paranaense 0 x 3 Atlético Mineiro!\n",
      "Rodada 25: Ceará 0 x 0 Atl Goianiense!\n",
      "Rodada 25: Vasco da Gama 1 x 0 Fluminense!\n",
      "Rodada 26: Atl Goianiense 0 x 0 Fluminense!\n",
      "Rodada 26: Vasco da Gama 1 x 0 Santos!\n",
      "Rodada 26: Coritiba 1 x 1 Botafogo (RJ)!\n",
      "Rodada 26: Fortaleza 1 x 0 Ceará!\n",
      "Rodada 26: Sport Recife 0 x 1 Grêmio!\n",
      "Rodada 26: Flamengo 1 x 1 Bahia!\n",
      "Rodada 26: São Paulo 0 x 1 Atlético Mineiro!\n",
      "Rodada 26: Bragantino 0 x 1 Atl Paranaense!\n",
      "Rodada 26: Internacional 0 x 0 Palmeiras!\n",
      "Rodada 26: Corinthians 1 x 1 Goiás!\n",
      "Rodada 27: Fluminense 0 x 0 São Paulo!\n",
      "Rodada 27: Bahia 1 x 0 Internacional!\n",
      "Rodada 27: Atl Paranaense 1 x 3 Vasco da Gama!\n",
      "Rodada 27: Botafogo (RJ) 1 x 1 Corinthians!\n",
      "Rodada 27: Fortaleza 1 x 1 Flamengo!\n",
      "Rodada 27: Grêmio 2 x 0 Atl Goianiense!\n",
      "Rodada 27: Atlético Mineiro 1 x 1 Coritiba!\n",
      "Rodada 27: Goiás 1 x 0 Sport Recife!\n",
      "Rodada 27: Palmeiras 0 x 0 Bragantino!\n",
      "Rodada 27: Santos 0 x 0 Ceará!\n",
      "Rodada 28: Atl Goianiense 0 x 2 Vasco da Gama!\n",
      "Rodada 28: Botafogo (RJ) 3 x 1 Atl Paranaense!\n",
      "Rodada 28: Atlético Mineiro 1 x 0 Santos!\n",
      "Rodada 28: Palmeiras 0 x 1 Corinthians!\n",
      "Rodada 28: Grêmio 1 x 1 Bahia!\n",
      "Rodada 28: Ceará 0 x 0 Internacional!\n",
      "Rodada 28: Coritiba 1 x 1 Goiás!\n",
      "Rodada 28: Sport Recife 0 x 1 Fortaleza!\n",
      "Rodada 28: Bragantino 0 x 0 São Paulo!\n",
      "Rodada 28: Flamengo 1 x 1 Fluminense!\n",
      "Rodada 29: Corinthians 1 x 0 Fluminense!\n",
      "Rodada 29: Sport Recife 0 x 0 Palmeiras!\n",
      "Rodada 29: Vasco da Gama 1 x 1 Botafogo (RJ)!\n",
      "Rodada 29: Coritiba 3 x 1 Atl Paranaense!\n",
      "Rodada 29: Flamengo 1 x 1 Ceará!\n",
      "Rodada 29: Fortaleza 1 x 1 Grêmio!\n",
      "Rodada 29: São Paulo 0 x 0 Santos!\n",
      "Rodada 29: Bragantino 0 x 1 Atlético Mineiro!\n",
      "Rodada 29: Atl Goianiense 0 x 2 Bahia!\n",
      "Rodada 29: Internacional 0 x 1 Goiás!\n",
      "Rodada 30: Bahia 1 x 1 Corinthians!\n",
      "Rodada 30: Santos 0 x 1 Botafogo (RJ)!\n",
      "Rodada 30: Vasco da Gama 1 x 1 Coritiba!\n",
      "Rodada 30: Atlético Mineiro 2 x 0 Atl Goianiense!\n",
      "Rodada 30: Fluminense 0 x 0 Sport Recife!\n",
      "Rodada 30: Internacional 0 x 1 Fortaleza!\n",
      "Rodada 30: Ceará 0 x 0 Bragantino!\n",
      "Rodada 30: Palmeiras 0 x 1 Grêmio!\n",
      "Rodada 30: Atl Paranaense 1 x 0 São Paulo!\n",
      "Rodada 30: Goiás 1 x 1 Flamengo!\n",
      "Rodada 31: Bragantino 0 x 1 Vasco da Gama!\n",
      "Rodada 31: Goiás 1 x 0 Ceará!\n",
      "Rodada 31: Grêmio 0 x 1 Atlético Mineiro!\n",
      "Rodada 31: Bahia 3 x 1 Atl Paranaense!\n",
      "Rodada 31: São Paulo 0 x 0 Internacional!\n",
      "Rodada 31: Botafogo (RJ) 2 x 0 Atl Goianiense!\n",
      "Rodada 31: Coritiba 1 x 0 Fluminense!\n",
      "Rodada 31: Corinthians 1 x 0 Sport Recife!\n",
      "Rodada 31: Fortaleza 1 x 0 Santos!\n",
      "Rodada 31: Flamengo 1 x 1 Palmeiras!\n",
      "Rodada 32: Fluminense 0 x 1 Botafogo (RJ)!\n",
      "Rodada 32: Sport Recife 0 x 1 Bahia!\n",
      "Rodada 32: Corinthians 1 x 0 Bragantino!\n",
      "Rodada 32: Atl Paranaense 1 x 3 Flamengo!\n",
      "Rodada 32: Vasco da Gama 0 x 1 Atlético Mineiro!\n",
      "Rodada 32: Ceará 0 x 0 Palmeiras!\n",
      "Rodada 32: Atl Goianiense 0 x 1 Fortaleza!\n",
      "Rodada 32: Internacional 0 x 1 Grêmio!\n",
      "Rodada 32: Santos 0 x 1 Goiás!\n",
      "Rodada 32: São Paulo 0 x 1 Coritiba!\n",
      "Rodada 33: Atlético Mineiro 1 x 1 Fortaleza!\n",
      "Rodada 33: Atl Goianiense 0 x 0 São Paulo!\n",
      "Rodada 33: Fluminense 0 x 1 Goiás!\n",
      "Rodada 33: Sport Recife 1 x 1 Flamengo!\n",
      "Rodada 33: Coritiba 2 x 1 Grêmio!\n",
      "Rodada 33: Ceará 0 x 1 Atl Paranaense!\n",
      "Rodada 33: Santos 0 x 1 Corinthians!\n",
      "Rodada 33: Palmeiras 0 x 1 Botafogo (RJ)!\n",
      "Rodada 33: Vasco da Gama 1 x 1 Bahia!\n",
      "Rodada 33: Internacional 0 x 0 Bragantino!\n",
      "Rodada 34: Flamengo 1 x 1 Vasco da Gama!\n",
      "Rodada 34: Fortaleza 1 x 1 Coritiba!\n",
      "Rodada 34: Bragantino 0 x 0 Atl Goianiense!\n",
      "Rodada 34: São Paulo 0 x 0 Palmeiras!\n",
      "Rodada 34: Botafogo (RJ) 1 x 0 Sport Recife!\n",
      "Rodada 34: Corinthians 1 x 0 Ceará!\n",
      "Rodada 34: Goiás 0 x 1 Atlético Mineiro!\n",
      "Rodada 34: Bahia 1 x 0 Fluminense!\n",
      "Rodada 34: Grêmio 1 x 0 Santos!\n",
      "Rodada 34: Atl Paranaense 1 x 0 Internacional!\n",
      "Rodada 35: Coritiba 1 x 0 Palmeiras!\n",
      "Rodada 35: Botafogo (RJ) 1 x 1 Grêmio!\n",
      "Rodada 35: São Paulo 0 x 0 Ceará!\n",
      "Rodada 35: Bragantino 1 x 1 Flamengo!\n",
      "Rodada 35: Fortaleza 1 x 1 Vasco da Gama!\n",
      "Rodada 35: Fluminense 0 x 1 Atlético Mineiro!\n",
      "Rodada 35: Corinthians 3 x 1 Atl Paranaense!\n",
      "Rodada 35: Bahia 1 x 1 Goiás!\n",
      "Rodada 35: Internacional 0 x 0 Sport Recife!\n",
      "Rodada 35: Atl Goianiense 0 x 0 Santos!\n",
      "Rodada 36: Palmeiras 0 x 1 Fortaleza!\n",
      "Rodada 36: Sport Recife 0 x 0 Bragantino!\n",
      "Rodada 36: Flamengo 1 x 1 Corinthians!\n",
      "Rodada 36: Atl Paranaense 2 x 0 Atl Goianiense!\n",
      "Rodada 36: Goiás 1 x 1 Botafogo (RJ)!\n",
      "Rodada 36: Grêmio 1 x 0 São Paulo!\n",
      "Rodada 36: Santos 0 x 1 Coritiba!\n",
      "Rodada 36: Atlético Mineiro 1 x 0 Bahia!\n",
      "Rodada 36: Vasco da Gama 1 x 0 Internacional!\n",
      "Rodada 36: Ceará 0 x 0 Fluminense!\n",
      "Rodada 37: Santos 0 x 0 Fluminense!\n",
      "Rodada 37: Corinthians 1 x 1 Vasco da Gama!\n",
      "Rodada 37: Palmeiras 0 x 0 Atl Goianiense!\n",
      "Rodada 37: Flamengo 1 x 1 Internacional!\n",
      "Rodada 37: Goiás 1 x 0 Bragantino!\n",
      "Rodada 37: Botafogo (RJ) 1 x 0 São Paulo!\n",
      "Rodada 37: Grêmio 3 x 1 Atl Paranaense!\n",
      "Rodada 37: Sport Recife 0 x 1 Atlético Mineiro!\n",
      "Rodada 37: Coritiba 1 x 0 Ceará!\n",
      "Rodada 37: Fortaleza 1 x 1 Bahia!\n",
      "Rodada 38: Vasco da Gama 1 x 1 Goiás!\n",
      "Rodada 38: Bahia 1 x 0 Santos!\n",
      "Rodada 38: Bragantino 0 x 1 Grêmio!\n",
      "Rodada 38: São Paulo 1 x 1 Flamengo!\n",
      "Rodada 38: Atl Paranaense 1 x 0 Sport Recife!\n",
      "Rodada 38: Internacional 0 x 1 Corinthians!\n",
      "Rodada 38: Atlético Mineiro 1 x 0 Palmeiras!\n",
      "Rodada 38: Fluminense 0 x 1 Fortaleza!\n",
      "Rodada 38: Ceará 0 x 1 Botafogo (RJ)!\n",
      "Rodada 38: Atl Goianiense 0 x 2 Coritiba!\n"
     ]
    }
   ],
   "source": [
    "for next_match in next_matches.iterrows():\n",
    "    try:\n",
    "        next_match = next_match[1].to_frame().transpose()\n",
    "        team1, team2 = next_match[['Home', 'Away']].iloc[0]\n",
    "        date = pd.to_datetime(next_match['Date'].iloc[0])\n",
    "        if isinstance(next_match['Time'], str):\n",
    "            time = next_match['Time'].iloc[0].split(':')[0]\n",
    "        else:\n",
    "            time = next_match['Time'].iloc[0]\n",
    "            \n",
    "        matchweek = int(next_match['Wk'].iloc[0])\n",
    "\n",
    "        if team1 not in team_dict.keys():\n",
    "            team_dict[team1] = max(team_dict.values()) + 1\n",
    "\n",
    "        if team2 not in team_dict.keys():\n",
    "            team_dict[team2] = max(team_dict.values()) + 1\n",
    "\n",
    "\n",
    "        if matchweek >= last_matchweek + 1:\n",
    "            cols = X_new.columns.tolist()\n",
    "            mean_features_team1 = df[df['team'] == team1].copy()  # [cols]\n",
    "            mean_features_team2 = df[df['team'] == team2].copy()  # [cols]\n",
    "\n",
    "            mean_features_team1['match_id'] = last_match_id + 1\n",
    "            mean_features_team2['match_id'] = last_match_id + 1\n",
    "\n",
    "        #     for col in cols:\n",
    "        #         mean_features_team1[col] = mean_features_team1[col].shift(1).rolling(window=3).mean().copy()\n",
    "        #         mean_features_team2[col] = mean_features_team2[col].shift(1).rolling(window=3).mean().copy()\n",
    "\n",
    "            for col in df.columns:\n",
    "                if df[col].dtype != object and col not in ['score', 'match_id']:\n",
    "                    mean_features_team1[col] = mean_features_team1[col].shift(1).rolling(window=3).mean().copy()\n",
    "                    mean_features_team2[col] = mean_features_team2[col].shift(1).rolling(window=3).mean().copy()\n",
    "\n",
    "            mean_features_team1 = mean_features_team1.iloc[-1:].copy()\n",
    "            mean_features_team2 = mean_features_team2.iloc[-1:].copy()\n",
    "\n",
    "            mean_features_team1['is_home'] = 1\n",
    "            mean_features_team2['is_home'] = 0\n",
    "\n",
    "            mean_features_team1['team'] = team_dict[team1]\n",
    "            mean_features_team2['team'] = team_dict[team2]\n",
    "\n",
    "            dataset_team1 = make_dataset(mean_features_team1, mean_features_team2, cols).round(2)\n",
    "            dataset_team2 = make_dataset(mean_features_team2, mean_features_team1, cols).round(2)\n",
    "\n",
    "            game_prediction = dataset_team1.append(dataset_team2)\n",
    "            prediction = [round(prediction) for prediction in list(model.predict(game_prediction))]\n",
    "            print(f\"Rodada {matchweek}: {team1} {prediction[0]} x {prediction[1]} {team2}!\")\n",
    "            last_match_id += 1\n",
    "            \n",
    "            if matchweek == last_matchweek + 2:\n",
    "                break\n",
    "    except Exception as e:\n",
    "        pass"
   ]
  },
  {
   "cell_type": "code",
   "execution_count": null,
   "metadata": {},
   "outputs": [],
   "source": []
  },
  {
   "cell_type": "code",
   "execution_count": 46,
   "metadata": {},
   "outputs": [
    {
     "data": {
      "text/html": [
       "<div>\n",
       "<style scoped>\n",
       "    .dataframe tbody tr th:only-of-type {\n",
       "        vertical-align: middle;\n",
       "    }\n",
       "\n",
       "    .dataframe tbody tr th {\n",
       "        vertical-align: top;\n",
       "    }\n",
       "\n",
       "    .dataframe thead th {\n",
       "        text-align: right;\n",
       "    }\n",
       "</style>\n",
       "<table border=\"1\" class=\"dataframe\">\n",
       "  <thead>\n",
       "    <tr style=\"text-align: right;\">\n",
       "      <th></th>\n",
       "      <th>Wk</th>\n",
       "      <th>Day</th>\n",
       "      <th>Date</th>\n",
       "      <th>Time</th>\n",
       "      <th>Home</th>\n",
       "      <th>Score</th>\n",
       "      <th>Away</th>\n",
       "      <th>Attendance</th>\n",
       "      <th>Venue</th>\n",
       "      <th>Referee</th>\n",
       "      <th>Match Report</th>\n",
       "      <th>Notes</th>\n",
       "    </tr>\n",
       "  </thead>\n",
       "  <tbody>\n",
       "    <tr>\n",
       "      <th>156</th>\n",
       "      <td>15</td>\n",
       "      <td>Sat</td>\n",
       "      <td>2020-10-10</td>\n",
       "      <td>17:00</td>\n",
       "      <td>Vasco da Gama</td>\n",
       "      <td></td>\n",
       "      <td>Flamengo</td>\n",
       "      <td>NaN</td>\n",
       "      <td>Estádio Club de Regatas Vasco da Gama</td>\n",
       "      <td>NaN</td>\n",
       "      <td>NaN</td>\n",
       "      <td>NaN</td>\n",
       "    </tr>\n",
       "    <tr>\n",
       "      <th>157</th>\n",
       "      <td>15</td>\n",
       "      <td>Sat</td>\n",
       "      <td>2020-10-10</td>\n",
       "      <td>19:00</td>\n",
       "      <td>Coritiba</td>\n",
       "      <td></td>\n",
       "      <td>Fortaleza</td>\n",
       "      <td>NaN</td>\n",
       "      <td>Estádio Major Antônio Couto Pereira</td>\n",
       "      <td>NaN</td>\n",
       "      <td>NaN</td>\n",
       "      <td>NaN</td>\n",
       "    </tr>\n",
       "    <tr>\n",
       "      <th>158</th>\n",
       "      <td>15</td>\n",
       "      <td>Sat</td>\n",
       "      <td>2020-10-10</td>\n",
       "      <td>19:00</td>\n",
       "      <td>Palmeiras</td>\n",
       "      <td></td>\n",
       "      <td>São Paulo</td>\n",
       "      <td>NaN</td>\n",
       "      <td>Allianz Parque</td>\n",
       "      <td>NaN</td>\n",
       "      <td>NaN</td>\n",
       "      <td>NaN</td>\n",
       "    </tr>\n",
       "    <tr>\n",
       "      <th>159</th>\n",
       "      <td>15</td>\n",
       "      <td>Sat</td>\n",
       "      <td>2020-10-10</td>\n",
       "      <td>21:00</td>\n",
       "      <td>Atlético Mineiro</td>\n",
       "      <td></td>\n",
       "      <td>Goiás</td>\n",
       "      <td>NaN</td>\n",
       "      <td>Estádio Raimundo Sampaio</td>\n",
       "      <td>NaN</td>\n",
       "      <td>NaN</td>\n",
       "      <td>NaN</td>\n",
       "    </tr>\n",
       "    <tr>\n",
       "      <th>160</th>\n",
       "      <td>15</td>\n",
       "      <td>Sun</td>\n",
       "      <td>2020-10-11</td>\n",
       "      <td>16:00</td>\n",
       "      <td>Fluminense</td>\n",
       "      <td></td>\n",
       "      <td>Bahia</td>\n",
       "      <td>NaN</td>\n",
       "      <td>Estadio Jornalista Mário Filho</td>\n",
       "      <td>NaN</td>\n",
       "      <td>NaN</td>\n",
       "      <td>NaN</td>\n",
       "    </tr>\n",
       "    <tr>\n",
       "      <th>161</th>\n",
       "      <td>15</td>\n",
       "      <td>Sun</td>\n",
       "      <td>2020-10-11</td>\n",
       "      <td>16:00</td>\n",
       "      <td>Santos</td>\n",
       "      <td></td>\n",
       "      <td>Grêmio</td>\n",
       "      <td>NaN</td>\n",
       "      <td>Estádio Urbano Caldeira</td>\n",
       "      <td>NaN</td>\n",
       "      <td>NaN</td>\n",
       "      <td>NaN</td>\n",
       "    </tr>\n",
       "    <tr>\n",
       "      <th>162</th>\n",
       "      <td>15</td>\n",
       "      <td>Sun</td>\n",
       "      <td>2020-10-11</td>\n",
       "      <td>18:15</td>\n",
       "      <td>Sport Recife</td>\n",
       "      <td></td>\n",
       "      <td>Botafogo (RJ)</td>\n",
       "      <td>NaN</td>\n",
       "      <td>Estádio Adelmar da Costa Carvalho</td>\n",
       "      <td>NaN</td>\n",
       "      <td>NaN</td>\n",
       "      <td>NaN</td>\n",
       "    </tr>\n",
       "    <tr>\n",
       "      <th>163</th>\n",
       "      <td>15</td>\n",
       "      <td>Sun</td>\n",
       "      <td>2020-10-11</td>\n",
       "      <td>18:15</td>\n",
       "      <td>Atl Goianiense</td>\n",
       "      <td></td>\n",
       "      <td>Bragantino</td>\n",
       "      <td>NaN</td>\n",
       "      <td>Estádio Olímpico Pedro Ludovico Teixeira</td>\n",
       "      <td>NaN</td>\n",
       "      <td>NaN</td>\n",
       "      <td>NaN</td>\n",
       "    </tr>\n",
       "    <tr>\n",
       "      <th>164</th>\n",
       "      <td>15</td>\n",
       "      <td>Sun</td>\n",
       "      <td>2020-10-11</td>\n",
       "      <td>20:30</td>\n",
       "      <td>Ceará</td>\n",
       "      <td></td>\n",
       "      <td>Corinthians</td>\n",
       "      <td>NaN</td>\n",
       "      <td>Estádio Castelão</td>\n",
       "      <td>NaN</td>\n",
       "      <td>NaN</td>\n",
       "      <td>NaN</td>\n",
       "    </tr>\n",
       "    <tr>\n",
       "      <th>165</th>\n",
       "      <td>15</td>\n",
       "      <td>Sun</td>\n",
       "      <td>2020-10-11</td>\n",
       "      <td>20:30</td>\n",
       "      <td>Internacional</td>\n",
       "      <td></td>\n",
       "      <td>Atl Paranaense</td>\n",
       "      <td>NaN</td>\n",
       "      <td>Estádio José Pinheiro Borba</td>\n",
       "      <td>NaN</td>\n",
       "      <td>NaN</td>\n",
       "      <td>NaN</td>\n",
       "    </tr>\n",
       "  </tbody>\n",
       "</table>\n",
       "</div>"
      ],
      "text/plain": [
       "     Wk  Day        Date   Time              Home Score            Away  \\\n",
       "156  15  Sat  2020-10-10  17:00     Vasco da Gama              Flamengo   \n",
       "157  15  Sat  2020-10-10  19:00          Coritiba             Fortaleza   \n",
       "158  15  Sat  2020-10-10  19:00         Palmeiras             São Paulo   \n",
       "159  15  Sat  2020-10-10  21:00  Atlético Mineiro                 Goiás   \n",
       "160  15  Sun  2020-10-11  16:00        Fluminense                 Bahia   \n",
       "161  15  Sun  2020-10-11  16:00            Santos                Grêmio   \n",
       "162  15  Sun  2020-10-11  18:15      Sport Recife         Botafogo (RJ)   \n",
       "163  15  Sun  2020-10-11  18:15    Atl Goianiense            Bragantino   \n",
       "164  15  Sun  2020-10-11  20:30             Ceará           Corinthians   \n",
       "165  15  Sun  2020-10-11  20:30     Internacional        Atl Paranaense   \n",
       "\n",
       "     Attendance                                     Venue Referee  \\\n",
       "156         NaN     Estádio Club de Regatas Vasco da Gama     NaN   \n",
       "157         NaN       Estádio Major Antônio Couto Pereira     NaN   \n",
       "158         NaN                            Allianz Parque     NaN   \n",
       "159         NaN                  Estádio Raimundo Sampaio     NaN   \n",
       "160         NaN            Estadio Jornalista Mário Filho     NaN   \n",
       "161         NaN                   Estádio Urbano Caldeira     NaN   \n",
       "162         NaN         Estádio Adelmar da Costa Carvalho     NaN   \n",
       "163         NaN  Estádio Olímpico Pedro Ludovico Teixeira     NaN   \n",
       "164         NaN                          Estádio Castelão     NaN   \n",
       "165         NaN               Estádio José Pinheiro Borba     NaN   \n",
       "\n",
       "    Match Report Notes  \n",
       "156          NaN   NaN  \n",
       "157          NaN   NaN  \n",
       "158          NaN   NaN  \n",
       "159          NaN   NaN  \n",
       "160          NaN   NaN  \n",
       "161          NaN   NaN  \n",
       "162          NaN   NaN  \n",
       "163          NaN   NaN  \n",
       "164          NaN   NaN  \n",
       "165          NaN   NaN  "
      ]
     },
     "execution_count": 46,
     "metadata": {},
     "output_type": "execute_result"
    }
   ],
   "source": [
    "next_matches[next_matches['Wk'] == 15]"
   ]
  },
  {
   "cell_type": "code",
   "execution_count": 47,
   "metadata": {},
   "outputs": [
    {
     "data": {
      "text/plain": [
       "(224, 223)"
      ]
     },
     "execution_count": 47,
     "metadata": {},
     "output_type": "execute_result"
    }
   ],
   "source": [
    "df_teams.shape"
   ]
  },
  {
   "cell_type": "code",
   "execution_count": 48,
   "metadata": {},
   "outputs": [
    {
     "data": {
      "text/plain": [
       "(12710, 115)"
      ]
     },
     "execution_count": 48,
     "metadata": {},
     "output_type": "execute_result"
    }
   ],
   "source": [
    "df.shape"
   ]
  },
  {
   "cell_type": "code",
   "execution_count": 49,
   "metadata": {},
   "outputs": [],
   "source": [
    "# for col in df_teams.columns:\n",
    "#     print(col)"
   ]
  },
  {
   "cell_type": "code",
   "execution_count": 50,
   "metadata": {},
   "outputs": [
    {
     "data": {
      "text/plain": [
       "penalty_kicks_won_mean_defense                   224\n",
       "penalty_kicks_conceded_mean_defense              224\n",
       "penalty_kicks_won_mean_mid                       224\n",
       "penalty_kicks_conceded_mean_mid                  224\n",
       "penalty_kicks_won_mean_attack                    224\n",
       "penalty_kicks_conceded_mean_attack               224\n",
       "penalty_kicks_won_mean_defense_adversary         224\n",
       "penalty_kicks_conceded_mean_defense_adversary    224\n",
       "penalty_kicks_won_mean_mid_adversary             224\n",
       "penalty_kicks_conceded_mean_mid_adversary        224\n",
       "penalty_kicks_won_mean_attack_adversary          224\n",
       "penalty_kicks_conceded_mean_attack_adversary     224\n",
       "dtype: int64"
      ]
     },
     "execution_count": 50,
     "metadata": {},
     "output_type": "execute_result"
    }
   ],
   "source": [
    "nans = df_teams.isna().sum() \n",
    "nans[nans > 0]"
   ]
  },
  {
   "cell_type": "code",
   "execution_count": null,
   "metadata": {},
   "outputs": [],
   "source": []
  },
  {
   "cell_type": "code",
   "execution_count": 51,
   "metadata": {},
   "outputs": [
    {
     "data": {
      "text/plain": [
       "<AxesSubplot:title={'center':'Feature importance'}, xlabel='F score', ylabel='Features'>"
      ]
     },
     "execution_count": 51,
     "metadata": {},
     "output_type": "execute_result"
    },
    {
     "data": {
      "image/png": "[encoded data removed]",
      "text/plain": [
       "<Figure size 432x288 with 1 Axes>"
      ]
     },
     "metadata": {
      "needs_background": "light"
     },
     "output_type": "display_data"
    }
   ],
   "source": [
    "from xgboost import plot_importance\n",
    "plot_importance(model, max_num_features=10)"
   ]
  }
 ],
 "metadata": {
  "kernelspec": {
   "display_name": "Python 3",
   "language": "python",
   "name": "python3"
  },
  "language_info": {
   "codemirror_mode": {
    "name": "ipython",
    "version": 3
   },
   "file_extension": ".py",
   "mimetype": "text/x-python",
   "name": "python",
   "nbconvert_exporter": "python",
   "pygments_lexer": "ipython3",
   "version": "3.8.0"
  }
 },
 "nbformat": 4,
 "nbformat_minor": 4
}
